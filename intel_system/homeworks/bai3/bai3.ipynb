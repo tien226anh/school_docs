{
 "cells": [
  {
   "cell_type": "markdown",
   "metadata": {},
   "source": [
    "Nguyễn Tiến Anh - B20DCCN005\n",
    "Bài 3: TENSORFLOW"
   ]
  },
  {
   "cell_type": "markdown",
   "metadata": {},
   "source": [
    "# 3.1\n"
   ]
  },
  {
   "cell_type": "markdown",
   "metadata": {},
   "source": [
    "## Example 1\n"
   ]
  },
  {
   "cell_type": "code",
   "execution_count": 5,
   "metadata": {
    "ExecuteTime": {
     "end_time": "2023-09-18T05:25:54.378310500Z",
     "start_time": "2023-09-18T05:25:48.554188Z"
    }
   },
   "outputs": [
    {
     "name": "stdout",
     "output_type": "stream",
     "text": [
      "Sum of node1 and node2 is:  8.0\n"
     ]
    }
   ],
   "source": [
    "import tensorflow.compat.v1 as tf\n",
    "\n",
    "# Tạo hai constant nodes node1 và node2 với kiểu dữ liệu là float32\n",
    "node1 = tf.constant(3, dtype=tf.float32)\n",
    "node2 = tf.constant(5, dtype=tf.float32)\n",
    "\n",
    "# Tạo một node node3 là tổng của node1 và node2\n",
    "node3 = tf.add(node1, node2)\n",
    "\n",
    "# Tạo một TensorFlow Session\n",
    "sess = tf.Session()\n",
    "\n",
    "# In kết quả của phép cộng node1 và node2\n",
    "print(\"Sum of node1 and node2 is: \", sess.run(node3))\n",
    "\n",
    "# Đóng Session sau khi sử dụng\n",
    "sess.close()"
   ]
  },
  {
   "cell_type": "markdown",
   "metadata": {},
   "source": [
    "Giải thích code:\n",
    "\n",
    "- Dòng đầu tiên: Đây là bước đầu tiên, là gọi thư viện `tensorflow`\n"
   ]
  },
  {
   "cell_type": "code",
   "execution_count": 6,
   "metadata": {
    "ExecuteTime": {
     "end_time": "2023-09-18T05:26:17.365736Z",
     "start_time": "2023-09-18T05:26:17.362568900Z"
    }
   },
   "outputs": [],
   "source": [
    "import tensorflow.compat.v1 as tf"
   ]
  },
  {
   "cell_type": "markdown",
   "metadata": {},
   "source": [
    "- Kế đến khai báo 2 hằng số (constants) `node1` và `node2` lần lượt mang các giá trị `3` và `5`, chúng được tạo ra bởi method `constant` của thư viện `tensorflow`, chúng đều được ắn kiểu dữ liệu là `float32`.\n"
   ]
  },
  {
   "cell_type": "code",
   "execution_count": 7,
   "metadata": {
    "ExecuteTime": {
     "end_time": "2023-09-18T05:26:18.789691500Z",
     "start_time": "2023-09-18T05:26:18.743441500Z"
    }
   },
   "outputs": [],
   "source": [
    "node1 = tf.constant(3, dtype=tf.float32)\n",
    "node2 = tf.constant(5, dtype=tf.float32)"
   ]
  },
  {
   "cell_type": "markdown",
   "metadata": {},
   "source": [
    "- Sau khi tạo 2 hằng số trên xong, chúng ta tạo ra một phép cộng bằng method `add` và gán nó là `node3` chứa kết quả của phép cộng giữa `node1` và `node2` đã được tạo ở trên. Phép tính này vẫn chưa được thực hiện ngay mà sữ được thực hiện sau khi chúng ta tạo 1 phiên làm việc (session) Tensorflow và chạy nó.\n"
   ]
  },
  {
   "cell_type": "code",
   "execution_count": 8,
   "metadata": {
    "ExecuteTime": {
     "start_time": "2023-09-18T05:25:54.386658300Z"
    }
   },
   "outputs": [],
   "source": [
    "node3 = tf.add(node1, node2)"
   ]
  },
  {
   "cell_type": "markdown",
   "metadata": {},
   "source": [
    "- Sau khi tạo `node3`, chúng ta mở 1 session bằng các sử dụng `tf.Session()`. Session này sẽ thực hiện tính toán cho các phép tính TensorFlow và duy trì trạng thái của các biến TensorFlow trong quá trình chạy.\n"
   ]
  },
  {
   "cell_type": "code",
   "execution_count": 9,
   "metadata": {
    "ExecuteTime": {
     "start_time": "2023-09-18T05:25:54.392655500Z"
    }
   },
   "outputs": [],
   "source": [
    "sess = tf.Session()"
   ]
  },
  {
   "cell_type": "markdown",
   "metadata": {},
   "source": [
    "- Thực hiện in ra kết quả của phép cộng `node1` và `node2`. Chúng ta thực hiện method `run()` và truyền vào `node3` để thực hiện tính toán giá trị của nó\n"
   ]
  },
  {
   "cell_type": "code",
   "execution_count": 10,
   "metadata": {
    "ExecuteTime": {
     "start_time": "2023-09-18T05:25:54.395655800Z"
    }
   },
   "outputs": [
    {
     "name": "stdout",
     "output_type": "stream",
     "text": [
      "Sum of node1 and node2 is:  8.0\n"
     ]
    }
   ],
   "source": [
    "print(\"Sum of node1 and node2 is: \", sess.run(node3))"
   ]
  },
  {
   "cell_type": "markdown",
   "metadata": {},
   "source": [
    "- Cuối cùng, chúng ta đóng phiên TensorFlow bằng cách sử dụng `sess.close()`. Điều này giúp giải phóng tài nguyên mà phiên TensorFlow sử dụng sau khi hoàn thành công việc.\n"
   ]
  },
  {
   "cell_type": "code",
   "execution_count": 11,
   "metadata": {
    "ExecuteTime": {
     "start_time": "2023-09-18T05:25:54.401872800Z"
    }
   },
   "outputs": [],
   "source": [
    "sess.close()"
   ]
  },
  {
   "cell_type": "markdown",
   "metadata": {},
   "source": [
    "## Example 2\n"
   ]
  },
  {
   "cell_type": "code",
   "execution_count": 12,
   "metadata": {
    "ExecuteTime": {
     "start_time": "2023-09-18T05:25:54.407021800Z"
    }
   },
   "outputs": [
    {
     "data": {
      "text/plain": [
       "<tf.Tensor 'Const_4:0' shape=() dtype=float32>"
      ]
     },
     "metadata": {},
     "output_type": "display_data"
    },
    {
     "data": {
      "text/plain": [
       "<tf.Tensor 'Const_5:0' shape=(1,) dtype=float32>"
      ]
     },
     "metadata": {},
     "output_type": "display_data"
    },
    {
     "data": {
      "text/plain": [
       "<tf.Tensor 'Const_6:0' shape=(3,) dtype=float32>"
      ]
     },
     "metadata": {},
     "output_type": "display_data"
    },
    {
     "data": {
      "text/plain": [
       "<tf.Tensor 'Const_7:0' shape=(2, 4) dtype=float32>"
      ]
     },
     "metadata": {},
     "output_type": "display_data"
    },
    {
     "data": {
      "text/plain": [
       "<tf.Tensor 'Const_8:0' shape=(1, 2, 4) dtype=float32>"
      ]
     },
     "metadata": {},
     "output_type": "display_data"
    },
    {
     "data": {
      "text/plain": [
       "<tf.Tensor 'Const_9:0' shape=(3, 2, 4) dtype=float32>"
      ]
     },
     "metadata": {},
     "output_type": "display_data"
    }
   ],
   "source": [
    "import tensorflow.compat.v1 as tf\n",
    "\n",
    "# Tạo một hằng số (constant) TensorFlow với giá trị 5 và kiểu dữ liệu float32\n",
    "x = tf.constant(5, tf.float32)\n",
    "\n",
    "# Tạo một hằng số TensorFlow là một mảng 1 chiều có giá trị [5] và kiểu dữ liệu float32\n",
    "y = tf.constant([5], tf.float32)\n",
    "\n",
    "# Tạo một hằng số TensorFlow là một mảng 1 chiều có giá trị [5, 3, 4] và kiểu dữ liệu float32\n",
    "z = tf.constant([5, 3, 4], tf.float32)\n",
    "\n",
    "# Tạo một hằng số TensorFlow là một ma trận có giá trị và kiểu dữ liệu float32\n",
    "t = tf.constant([[5, 3, 4, 6], [2, 3, 4, 7]], tf.float32)\n",
    "\n",
    "# Tạo một hằng số TensorFlow là một mảng 3 chiều với kiểu dữ liệu float32\n",
    "u = tf.constant([[[5, 3, 4, 6], [2, 3, 4, 0]]], tf.float32)\n",
    "\n",
    "# Tạo một hằng số TensorFlow là một mảng 3 chiều với kiểu dữ liệu float32\n",
    "v = tf.constant([[[5, 3, 4, 6], [2, 3, 4, 0]],\n",
    "                 [[5, 3, 4, 6], [2, 3, 4, 0]],\n",
    "                 [[5, 3, 4, 6], [2, 3, 4, 0]]], tf.float32)\n",
    "\n",
    "# Hiển thị các biến TensorFlow x, y, z, t, u, v\n",
    "display(x, y, z, t, u, v)"
   ]
  },
  {
   "cell_type": "markdown",
   "metadata": {},
   "source": [
    "Khác với code đầu tiên, đoạn code này chỉ đơn giản là thực hiện việc gán giá trị cho các biến sử dụng method `constant` của thư viện tensorflow và in các giá trị được gán ra phục vụ cho việc hình dung rõ ràng hơn về method `constant` này.\n",
    "\n",
    "- Đầu tiên, vẫn là gọi thư viện `tensorflow` và đặt alias cho nó là `tf`\n"
   ]
  },
  {
   "cell_type": "code",
   "execution_count": 13,
   "metadata": {
    "ExecuteTime": {
     "start_time": "2023-09-18T05:25:54.412027600Z"
    }
   },
   "outputs": [],
   "source": [
    "import tensorflow.compat.v1 as tf"
   ]
  },
  {
   "cell_type": "markdown",
   "metadata": {},
   "source": [
    "- Tạo các hằng số lần lượt là `x`, `y`, `z`, `t`, `u`, `v`.\n",
    "  - `x` là hằng số có giá trị là 5 và được đặt kiểu dữ liệu là float32. Đây là một số nguyên đơn giản được chuyển đổi sang kiểu dữ liệu float32.\n",
    "  - `y` là một mảng (tensor) 1 chiều chứa một phần tử với giá trị 5 và kiểu dữ liệu float32.\n",
    "  - `z` là một mảng 1 chiều chứa ba phần tử: 5, 3 và 4.\n",
    "  - `t` là một ma trận (tensor) 2 chiều với hai hàng và bốn cột. Giá trị của ma trận này được chỉ định bởi danh sách các danh sách (list of lists).\n",
    "  - `u` là một ma trận 3 chiều với một lớp (hoặc mảng 2D) chứa hai hàng và bốn cột. Ma trận này cũng được chỉ định bởi danh sách của danh sách của danh sách (list of list of lists).\n",
    "  - `v` là một ma trận 3 chiều với ba lớp (hoặc mảng 2D) mỗi lớp chứa hai hàng và bốn cột. Ma trận này là một ví dụ về tensor 3 chiều.\n"
   ]
  },
  {
   "cell_type": "code",
   "execution_count": 14,
   "metadata": {
    "ExecuteTime": {
     "start_time": "2023-09-18T05:25:54.418194800Z"
    }
   },
   "outputs": [],
   "source": [
    "x = tf.constant(5, tf.float32)\n",
    "y = tf.constant([5], tf.float32)\n",
    "z = tf.constant([5,3,4], tf.float32) \n",
    "t = tf.constant([[5,3,4,6],[2,3,4,7]], tf.float32) \n",
    "u = tf.constant([[[5,3,4,6],[2,3,4,0]]], tf.float32) \n",
    "v = tf.constant([[[5,3,4,6],[2,3,4,0]], \n",
    "                 [[5,3,4,6],[2,3,4,0]], \n",
    "                 [[5,3,4,6],[2,3,4,0]] \n",
    "                ], tf.float32) "
   ]
  },
  {
   "cell_type": "markdown",
   "metadata": {},
   "source": [
    "- Sử dụng `display()` để hiển thị giá trị của các hằng số x, y, z, t, u, và v ra màn hình hoặc giao diện người dùng. Điều này giúp kiểm tra giá trị của các tensor với kích thước và kiểu dữ liệu khác nhau.\n"
   ]
  },
  {
   "cell_type": "code",
   "execution_count": 15,
   "metadata": {
    "ExecuteTime": {
     "start_time": "2023-09-18T05:25:54.424198500Z"
    }
   },
   "outputs": [
    {
     "data": {
      "text/plain": [
       "<tf.Tensor 'Const_10:0' shape=() dtype=float32>"
      ]
     },
     "metadata": {},
     "output_type": "display_data"
    },
    {
     "data": {
      "text/plain": [
       "<tf.Tensor 'Const_11:0' shape=(1,) dtype=float32>"
      ]
     },
     "metadata": {},
     "output_type": "display_data"
    },
    {
     "data": {
      "text/plain": [
       "<tf.Tensor 'Const_12:0' shape=(3,) dtype=float32>"
      ]
     },
     "metadata": {},
     "output_type": "display_data"
    },
    {
     "data": {
      "text/plain": [
       "<tf.Tensor 'Const_13:0' shape=(2, 4) dtype=float32>"
      ]
     },
     "metadata": {},
     "output_type": "display_data"
    },
    {
     "data": {
      "text/plain": [
       "<tf.Tensor 'Const_14:0' shape=(1, 2, 4) dtype=float32>"
      ]
     },
     "metadata": {},
     "output_type": "display_data"
    },
    {
     "data": {
      "text/plain": [
       "<tf.Tensor 'Const_15:0' shape=(3, 2, 4) dtype=float32>"
      ]
     },
     "metadata": {},
     "output_type": "display_data"
    }
   ],
   "source": [
    "display(x, y, z, t, u, v)"
   ]
  },
  {
   "cell_type": "markdown",
   "metadata": {},
   "source": [
    "# 3.2\n"
   ]
  },
  {
   "cell_type": "markdown",
   "metadata": {},
   "source": [
    "## Example 1\n"
   ]
  },
  {
   "cell_type": "code",
   "execution_count": 16,
   "metadata": {
    "ExecuteTime": {
     "end_time": "2023-09-18T05:25:54.600393500Z",
     "start_time": "2023-09-18T05:25:54.428361900Z"
    }
   },
   "outputs": [
    {
     "name": "stdout",
     "output_type": "stream",
     "text": [
      "22.79\n"
     ]
    }
   ],
   "source": [
    "# Import thư viện TensorFlow phiên bản 1.x\n",
    "import tensorflow.compat.v1 as tf\n",
    "\n",
    "# Tạo hai biến x1 và x2 với giá trị ban đầu lần lượt là 5.3 và 4.3, kiểu dữ liệu là float32\n",
    "x1 = tf.Variable(5.3, tf.float32)\n",
    "x2 = tf.Variable(4.3, tf.float32)\n",
    "\n",
    "# Tính tích của hai biến x1 và x2\n",
    "x = tf.multiply(x1, x2)\n",
    "\n",
    "# Khởi tạo các biến trong TensorFlow\n",
    "init = tf.global_variables_initializer()\n",
    "\n",
    "# Tạo một phiên làm việc (Session) để thực thi các phép tính\n",
    "with tf.Session() as sess:\n",
    "    # Thực thi phần khởi tạo biến\n",
    "    sess.run(init)\n",
    "    \n",
    "    # Thực thi phép tính tích và lưu kết quả vào biến 't'\n",
    "    t = sess.run(x)\n",
    "    \n",
    "    # In kết quả tích ra màn hình\n",
    "    print(t)"
   ]
  },
  {
   "cell_type": "markdown",
   "metadata": {},
   "source": [
    "Đoạn mã trên là một ví dụ về cách sử dụng TensorFlow phiên bản 1.x để thực hiện các phép tính đơn giản. Dưới đây là giải thích từng phần của mã:\n",
    "\n",
    "1. Import thư viện TensorFlow phiên bản 1.x:\n",
    "   - Đầu tiên, mã nhập thư viện TensorFlow và sử dụng phiên bản 1.x của nó bằng cách sử dụng `import tensorflow.compat.v1 as tf`. Điều này đảm bảo rằng bạn đang sử dụng TensorFlow phiên bản 1.x thay vì phiên bản 2.x, vì có sự khác biệt trong cách thực hiện một số phép tính cơ bản.\n"
   ]
  },
  {
   "cell_type": "code",
   "execution_count": 17,
   "metadata": {
    "ExecuteTime": {
     "start_time": "2023-09-18T05:25:54.433363900Z"
    }
   },
   "outputs": [],
   "source": [
    "import tensorflow.compat.v1 as tf"
   ]
  },
  {
   "cell_type": "markdown",
   "metadata": {},
   "source": [
    "2. Tạo hai biến x1 và x2:\n",
    "   - `x1` và `x2` là hai biến được tạo ra trong TensorFlow. `tf.Variable(5.3, tf.float32)` và `tf.Variable(4.3, tf.float32)` tạo hai biến có giá trị ban đầu là 5.3 và 4.3, và kiểu dữ liệu của chúng là float32.\n"
   ]
  },
  {
   "cell_type": "code",
   "execution_count": 18,
   "metadata": {
    "ExecuteTime": {
     "start_time": "2023-09-18T05:25:54.439573800Z"
    }
   },
   "outputs": [],
   "source": [
    "x1 = tf.Variable(5.3, tf.float32)\n",
    "x2 = tf.Variable(4.3, tf.float32)"
   ]
  },
  {
   "cell_type": "markdown",
   "metadata": {},
   "source": [
    "3. Tính tích của hai biến x1 và x2:\n",
    "   - Dòng `x = tf.multiply(x1, x2)` thực hiện phép tính tích của `x1` và `x2` và lưu kết quả vào biến `x`.\n"
   ]
  },
  {
   "cell_type": "code",
   "execution_count": 19,
   "metadata": {
    "ExecuteTime": {
     "start_time": "2023-09-18T05:25:54.444576400Z"
    }
   },
   "outputs": [],
   "source": [
    "x = tf.multiply(x1, x2)"
   ]
  },
  {
   "cell_type": "markdown",
   "metadata": {},
   "source": [
    "4. Khởi tạo các biến trong TensorFlow:\n",
    "   - Dòng `init = tf.global_variables_initializer()` tạo một biến `init` để khởi tạo tất cả các biến trong TensorFlow.\n"
   ]
  },
  {
   "cell_type": "code",
   "execution_count": 20,
   "metadata": {
    "ExecuteTime": {
     "start_time": "2023-09-18T05:25:54.450728300Z"
    }
   },
   "outputs": [],
   "source": [
    "init = tf.global_variables_initializer()"
   ]
  },
  {
   "cell_type": "markdown",
   "metadata": {},
   "source": [
    "5. Tạo một phiên làm việc (Session) để thực thi các phép tính:\n",
    "\n",
    "   - Dòng `with tf.Session() as sess` tạo một phiên làm việc TensorFlow và đặt tên nó là `sess`. Phiên làm việc là môi trường để thực thi các phép tính trong TensorFlow.\n",
    "\n",
    "6. Thực thi phần khởi tạo biến:\n",
    "   - Dòng `sess.run(init)` thực hiện việc khởi tạo tất cả các biến trong TensorFlow bằng cách chạy biểu thức `init` trong phiên làm việc.\n",
    "7. Thực thi phép tính tích và lưu kết quả vào biến 't':\n",
    "\n",
    "   - Dòng `t = sess.run(x)` thực hiện phép tính tích `x` trong phiên làm việc và lưu kết quả vào biến `t`.\n",
    "\n",
    "8. In kết quả tích ra màn hình:\n",
    "   - Dòng `print(t)` in giá trị của biến `t` ra màn hình, là kết quả của phép tính tích `x1` và `x2`.\n"
   ]
  },
  {
   "cell_type": "code",
   "execution_count": 21,
   "metadata": {
    "ExecuteTime": {
     "start_time": "2023-09-18T05:25:54.455954900Z"
    }
   },
   "outputs": [
    {
     "name": "stdout",
     "output_type": "stream",
     "text": [
      "22.79\n"
     ]
    }
   ],
   "source": [
    "with tf.Session() as sess:\n",
    "    sess.run(init)    \n",
    "    t = sess.run(x)\n",
    "    print(t)"
   ]
  },
  {
   "cell_type": "markdown",
   "metadata": {},
   "source": [
    "## Example 2\n"
   ]
  },
  {
   "cell_type": "code",
   "execution_count": 22,
   "metadata": {
    "ExecuteTime": {
     "start_time": "2023-09-18T05:25:54.459955200Z"
    }
   },
   "outputs": [
    {
     "name": "stdout",
     "output_type": "stream",
     "text": [
      "[[22.79 19.35 42.  ]\n",
      " [22.79 19.35 42.  ]]\n"
     ]
    }
   ],
   "source": [
    "# Import TensorFlow version 1.x\n",
    "import tensorflow.compat.v1 as tf\n",
    "\n",
    "# Tạo hai biến TensorFlow x1 và x2 với giá trị ban đầu là các ma trận 2x3 chứa số thực\n",
    "x1 = tf.Variable([[5.3, 4.5, 6.0], [4.3, 4.3, 7.0]], tf.float32)\n",
    "x2 = tf.Variable([[4.3, 4.3, 7.0], [5.3, 4.5, 6.0]], tf.float32)\n",
    "\n",
    "# Thực hiện phép nhân element-wise (nhân từng phần tử tương ứng) giữa x1 và x2, kết quả sẽ là một biến TensorFlow\n",
    "x = tf.multiply(x1, x2)\n",
    "\n",
    "# Khởi tạo tất cả các biến trong đồ thị tính toán\n",
    "init = tf.global_variables_initializer()\n",
    "\n",
    "# Tạo một phiên (session) TensorFlow và chạy quá trình tính toán\n",
    "with tf.Session() as sess:\n",
    "    sess.run(init)  # Khởi tạo tất cả các biến\n",
    "    t = sess.run(x)  # Thực hiện tính toán và lấy giá trị của biến x\n",
    "    print(t)  # In ra kết quả của phép nhân element-wise"
   ]
  },
  {
   "cell_type": "markdown",
   "metadata": {},
   "source": [
    "Code trên là một ví dụ về cách sử dụng TensorFlow để thực hiện phép nhân element-wise (nhân từng phần tử tương ứng) giữa hai ma trận `x1` và `x2`. Dưới đây là giải thích từng bước của code:\n",
    "\n",
    "1. `import tensorflow.compat.v1 as tf`: Đoạn mã sử dụng TensorFlow phiên bản 1.x. TensorFlow là một thư viện mã nguồn mở phổ biến được sử dụng để xây dựng và huấn luyện các mô hình máy học.\n"
   ]
  },
  {
   "cell_type": "code",
   "execution_count": 23,
   "metadata": {
    "ExecuteTime": {
     "start_time": "2023-09-18T05:25:54.464956400Z"
    }
   },
   "outputs": [],
   "source": [
    "import tensorflow.compat.v1 as tf"
   ]
  },
  {
   "cell_type": "markdown",
   "metadata": {},
   "source": [
    "2. `x1` và `x2` là hai biến TensorFlow. Mỗi biến này đại diện cho một ma trận 2x3 chứa số thực. `tf.Variable` được sử dụng để định nghĩa các biến TensorFlow và chỉ định giá trị ban đầu của chúng.\n"
   ]
  },
  {
   "cell_type": "code",
   "execution_count": 24,
   "metadata": {
    "ExecuteTime": {
     "start_time": "2023-09-18T05:25:54.468131Z"
    }
   },
   "outputs": [],
   "source": [
    "x1 = tf.Variable([[5.3, 4.5, 6.0], [4.3, 4.3, 7.0]], tf.float32)\n",
    "x2 = tf.Variable([[4.3, 4.3, 7.0], [5.3, 4.5, 6.0]], tf.float32)"
   ]
  },
  {
   "cell_type": "markdown",
   "metadata": {},
   "source": [
    "3. `x = tf.multiply(x1, x2)`: Đây là bước thực hiện phép nhân element-wise giữa `x1` và `x2`. Kết quả là một biến TensorFlow `x` chứa kết quả của phép nhân element-wise này.\n"
   ]
  },
  {
   "cell_type": "code",
   "execution_count": 25,
   "metadata": {
    "ExecuteTime": {
     "start_time": "2023-09-18T05:25:54.472128100Z"
    }
   },
   "outputs": [],
   "source": [
    "x = tf.multiply(x1, x2)"
   ]
  },
  {
   "cell_type": "markdown",
   "metadata": {},
   "source": [
    "4. `init = tf.global_variables_initializer()`: Đoạn mã này tạo một hoạt động để khởi tạo tất cả các biến trong đồ thị tính toán. Trong TensorFlow, bạn cần thực hiện bước khởi tạo trước khi có thể sử dụng giá trị của các biến.\n"
   ]
  },
  {
   "cell_type": "code",
   "execution_count": 26,
   "metadata": {
    "ExecuteTime": {
     "start_time": "2023-09-18T05:25:54.474128800Z"
    }
   },
   "outputs": [],
   "source": [
    "init = tf.global_variables_initializer()"
   ]
  },
  {
   "cell_type": "markdown",
   "metadata": {},
   "source": [
    "5. `with tf.Session() as sess:`: Đây là bước tạo một phiên làm việc (session) TensorFlow. Một phiên TensorFlow là một môi trường thực thi để chạy các hoạt động tính toán và lấy giá trị của các biến.\n",
    "\n",
    "6. `sess.run(init)`: Bước này chạy hoạt động `init` để khởi tạo tất cả các biến.\n",
    "\n",
    "7. `t = sess.run(x)`: Bước này chạy hoạt động `x` để thực hiện tính toán phép nhân element-wise và lấy giá trị của biến `x`. Kết quả của phép nhân element-wise được lưu trong biến `t`.\n",
    "\n",
    "8. `print(t)`: Bước này in ra kết quả của phép nhân element-wise, tức là giá trị của biến `t`.\n",
    "\n",
    "Kết quả in ra màn hình sẽ là một ma trận 2x3 chứa kết quả của phép nhân element-wise giữa `x1` và `x2`.\n"
   ]
  },
  {
   "cell_type": "code",
   "execution_count": 27,
   "metadata": {
    "ExecuteTime": {
     "start_time": "2023-09-18T05:25:54.476310500Z"
    }
   },
   "outputs": [
    {
     "name": "stdout",
     "output_type": "stream",
     "text": [
      "[[22.79 19.35 42.  ]\n",
      " [22.79 19.35 42.  ]]\n"
     ]
    }
   ],
   "source": [
    "with tf.Session() as sess:\n",
    "    sess.run(init)  \n",
    "    t = sess.run(x)  \n",
    "    print(t) "
   ]
  },
  {
   "cell_type": "markdown",
   "metadata": {},
   "source": [
    "## Example 3\n"
   ]
  },
  {
   "cell_type": "code",
   "execution_count": 28,
   "metadata": {
    "ExecuteTime": {
     "start_time": "2023-09-18T05:25:54.482309400Z"
    }
   },
   "outputs": [
    {
     "name": "stdout",
     "output_type": "stream",
     "text": [
      "Tensor value before addition:\n",
      " [[0. 0.]\n",
      " [0. 0.]]\n",
      "Tensor value after addition:\n",
      " [[1. 1.]\n",
      " [1. 1.]]\n"
     ]
    }
   ],
   "source": [
    "# Import thư viện TensorFlow phiên bản 1.x\n",
    "import tensorflow.compat.v1 as tf\n",
    "\n",
    "# Tạo một biến TensorFlow có kích thước 2x2 và khởi tạo giá trị ban đầu là ma trận 2x2 chứa toàn số 0\n",
    "node = tf.Variable(tf.zeros([2, 2]))\n",
    "\n",
    "# Bắt đầu một phiên làm việc TensorFlow\n",
    "with tf.Session() as sess:\n",
    "    # Khởi chạy toàn bộ biến trong đồ thị tính toán\n",
    "    sess.run(tf.global_variables_initializer())\n",
    "\n",
    "    # In giá trị của biến 'node' trước khi thực hiện phép cộng\n",
    "    print(\"Tensor value before addition:\\n\", sess.run(node))\n",
    "\n",
    "    # Thực hiện phép cộng, gán giá trị mới cho biến 'node'\n",
    "    node = node.assign(node + tf.ones([2, 2]))\n",
    "\n",
    "    # In giá trị của biến 'node' sau khi thực hiện phép cộng\n",
    "    print(\"Tensor value after addition:\\n\", sess.run(node))\n",
    "\n",
    "    # Đóng phiên làm việc TensorFlow\n",
    "    sess.close()"
   ]
  },
  {
   "cell_type": "markdown",
   "metadata": {},
   "source": [
    "Code trên là một ví dụ về cách sử dụng TensorFlow để thực hiện phép cộng. Dưới đây là giải thích từng bước của code:\n",
    "\n",
    "1. Import thư viện TensorFlow phiên bản 1.x:\n",
    "   ```python\n",
    "   import tensorflow.compat.v1 as tf\n",
    "   ```\n",
    "   Đoạn này import thư viện TensorFlow và sử dụng phiên bản 1.x của nó với tên định danh `tf`.\n"
   ]
  },
  {
   "cell_type": "code",
   "execution_count": 29,
   "metadata": {
    "ExecuteTime": {
     "start_time": "2023-09-18T05:25:54.485309600Z"
    }
   },
   "outputs": [],
   "source": [
    "import tensorflow.compat.v1 as tf"
   ]
  },
  {
   "cell_type": "markdown",
   "metadata": {},
   "source": [
    "2. Tạo một biến TensorFlow có kích thước 2x2 và khởi tạo giá trị ban đầu là ma trận 2x2 chứa toàn số 0:\n",
    "   ```python\n",
    "   node = tf.Variable(tf.zeros([2, 2]))\n",
    "   ```\n",
    "   Đoạn này tạo một biến TensorFlow có tên `node` với giá trị ban đầu là một ma trận 2x2 chứa toàn số 0.\n"
   ]
  },
  {
   "cell_type": "code",
   "execution_count": 30,
   "metadata": {
    "ExecuteTime": {
     "start_time": "2023-09-18T05:25:54.487504800Z"
    }
   },
   "outputs": [],
   "source": [
    "node = tf.Variable(tf.zeros([2, 2]))"
   ]
  },
  {
   "cell_type": "markdown",
   "metadata": {},
   "source": [
    "3. Bắt đầu một phiên làm việc TensorFlow bằng cách sử dụng `with tf.Session() as sess:`:\n",
    "\n",
    "   ```python\n",
    "   with tf.Session() as sess:\n",
    "   ```\n",
    "\n",
    "   Đoạn này bắt đầu một phiên làm việc TensorFlow sử dụng `tf.Session()`, và đặt phiên làm việc này trong một khối `with` để tự động đóng phiên sau khi hoàn thành công việc.\n",
    "\n",
    "4. Khởi chạy toàn bộ biến trong đồ thị tính toán:\n",
    "\n",
    "   ```python\n",
    "   sess.run(tf.global_variables_initializer())\n",
    "   ```\n",
    "\n",
    "   Dòng này chạy toàn bộ biến trong đồ thị tính toán và khởi tạo giá trị ban đầu cho chúng. Trong trường hợp này, biến `node` được khởi tạo thành ma trận 2x2 chứa toàn số 0.\n",
    "\n",
    "5. In giá trị của biến 'node' trước khi thực hiện phép cộng:\n",
    "\n",
    "   ```python\n",
    "   print(\"Tensor value before addition:\\n\", sess.run(node))\n",
    "   ```\n",
    "\n",
    "   Dòng này in giá trị của biến `node` trước khi thực hiện phép cộng. Ban đầu, giá trị của `node` là ma trận 2x2 chứa toàn số 0.\n",
    "\n",
    "6. Thực hiện phép cộng, gán giá trị mới cho biến 'node':\n",
    "\n",
    "   ```python\n",
    "   node = node.assign(node + tf.ones([2, 2]))\n",
    "   ```\n",
    "\n",
    "   Dòng này thực hiện phép cộng trên biến `node` bằng cách cộng nó với ma trận 2x2 chứa toàn số 1, sau đó gán giá trị mới cho `node`.\n",
    "\n",
    "7. In giá trị của biến 'node' sau khi thực hiện phép cộng:\n",
    "\n",
    "   ```python\n",
    "   print(\"Tensor value after addition:\\n\", sess.run(node))\n",
    "   ```\n",
    "\n",
    "   Dòng này in giá trị của biến `node` sau khi đã thực hiện phép cộng. Bây giờ, giá trị của `node` đã được cập nhật sau phép cộng.\n",
    "\n",
    "8. Đóng phiên làm việc TensorFlow bằng cách kết thúc khối `with`:\n",
    "   ```python\n",
    "   sess.close()\n",
    "   ```\n",
    "   Dòng này đóng phiên làm việc TensorFlow, giải phóng tài nguyên và kết thúc chương trình.\n"
   ]
  },
  {
   "cell_type": "code",
   "execution_count": 31,
   "metadata": {
    "ExecuteTime": {
     "start_time": "2023-09-18T05:25:54.489502900Z"
    }
   },
   "outputs": [
    {
     "name": "stdout",
     "output_type": "stream",
     "text": [
      "Tensor value before addition:\n",
      " [[0. 0.]\n",
      " [0. 0.]]\n",
      "Tensor value after addition:\n",
      " [[1. 1.]\n",
      " [1. 1.]]\n"
     ]
    }
   ],
   "source": [
    "with tf.Session() as sess:\n",
    "    sess.run(tf.global_variables_initializer())\n",
    "\n",
    "    print(\"Tensor value before addition:\\n\", sess.run(node))\n",
    "\n",
    "    node = node.assign(node + tf.ones([2, 2]))\n",
    "\n",
    "    print(\"Tensor value after addition:\\n\", sess.run(node))\n",
    "\n",
    "    sess.close()"
   ]
  },
  {
   "cell_type": "markdown",
   "metadata": {},
   "source": [
    "# 3.3\n"
   ]
  },
  {
   "cell_type": "markdown",
   "metadata": {},
   "source": [
    "## Example 1\n"
   ]
  },
  {
   "cell_type": "code",
   "execution_count": 32,
   "metadata": {
    "ExecuteTime": {
     "start_time": "2023-09-18T05:25:54.492502400Z"
    }
   },
   "outputs": [
    {
     "name": "stdout",
     "output_type": "stream",
     "text": [
      "10.0\n"
     ]
    }
   ],
   "source": [
    "import tensorflow.compat.v1 as tf\n",
    "\n",
    "tf.compat.v1.disable_eager_execution()\n",
    "\n",
    "x = tf.placeholder(tf.float32, None)\n",
    "y = tf.add(x, x)\n",
    "\n",
    "with tf.Session() as sess:\n",
    "    x_data = 5\n",
    "    result = sess.run(y, feed_dict={x: x_data})\n",
    "    print(result)"
   ]
  },
  {
   "cell_type": "markdown",
   "metadata": {},
   "source": [
    "Code trên sử dụng thư viện TensorFlow (phiên bản 1.x) để thực hiện một số phép tính đơn giản. Dưới đây là các comment giải thích từng phần của mã:\n",
    "\n",
    "```python\n",
    "# Nhập thư viện TensorFlow phiên bản 1.x và đặt tên viết tắt là tf\n",
    "import tensorflow.compat.v1 as tf\n",
    "\n",
    "# Tắt tính năng eager execution (chế độ chạy ngay lập tức) của TensorFlow\n",
    "tf.compat.v1.disable_eager_execution()\n",
    "\n",
    "# Tạo một placeholder (nơi chứa dữ liệu) có kiểu dữ liệu là float32, không xác định kích thước\n",
    "x = tf.placeholder(tf.float32, None)\n",
    "\n",
    "# Tạo một phép tính, trong trường hợp này là phép cộng của x với chính nó\n",
    "y = tf.add(x, x)\n",
    "\n",
    "# Bắt đầu một phiên làm việc với TensorFlow\n",
    "with tf.Session() as sess:\n",
    "    # Đặt giá trị cho biến x_data là 5\n",
    "    x_data = 5\n",
    "\n",
    "    # Chạy phép tính y và truyền giá trị của x_data vào placeholder x thông qua feed_dict\n",
    "    result = sess.run(y, feed_dict={x: x_data})\n",
    "\n",
    "    # In ra kết quả của phép tính y\n",
    "    print(result)\n",
    "```\n",
    "\n",
    "Code này thực hiện các bước sau:\n",
    "\n",
    "1. Import TensorFlow phiên bản 1.x và đặt tên viết tắt là `tf`.\n",
    "2. Tắt tính năng eager execution của TensorFlow, điều này làm cho TensorFlow thực hiện tính toán theo cách truyền thống (được sử dụng trong TensorFlow 1.x) thay vì chế độ tính toán ngay lập tức (eager execution) của TensorFlow 2.x.\n",
    "3. Tạo một placeholder `x` với kiểu dữ liệu là `float32` và không xác định kích thước. Placeholder là một cơ chế để truyền dữ liệu vào trong đồ thị tính toán của TensorFlow.\n",
    "4. Tạo một phép tính `y` bằng cách cộng biến `x` với chính nó.\n",
    "5. Bắt đầu một phiên làm việc với TensorFlow (`with tf.Session() as sess:`). Phiên làm việc này sẽ thực hiện các phép tính trong đồ thị tính toán của TensorFlow.\n",
    "6. Đặt giá trị cho biến `x_data` là 5.\n",
    "7. Chạy phép tính `y` bằng cách truyền giá trị của `x_data` vào placeholder `x` thông qua `feed_dict`.\n",
    "8. In ra kết quả của phép tính `y`, kết quả sẽ là 10 (vì `y` bằng `x + x`, và `x_data` bằng 5).\n"
   ]
  },
  {
   "cell_type": "markdown",
   "metadata": {},
   "source": [
    "## Example 2\n"
   ]
  },
  {
   "cell_type": "code",
   "execution_count": 33,
   "metadata": {
    "ExecuteTime": {
     "start_time": "2023-09-18T05:25:54.495681100Z"
    }
   },
   "outputs": [
    {
     "name": "stdout",
     "output_type": "stream",
     "text": [
      "[[3.  4.  6.6]]\n"
     ]
    }
   ],
   "source": [
    "import tensorflow.compat.v1 as tf\n",
    "\n",
    "tf.compat.v1.disable_eager_execution()\n",
    "\n",
    "x = tf.placeholder(tf.float32, [None, 3])\n",
    "y = tf.add(x, x)\n",
    "\n",
    "with tf.Session() as sess:\n",
    "    x_data = [[1.5, 2.0, 3.3]]\n",
    "    result = sess.run(y, feed_dict={x: x_data})\n",
    "    print(result)"
   ]
  },
  {
   "cell_type": "markdown",
   "metadata": {},
   "source": [
    "Code này sử dụng TensorFlow 1.x để tạo một đồ thị tính toán đơn giản. Dưới đây là một số comment để giải thích từng phần của mã code:\n",
    "\n",
    "```python\n",
    "# Import thư viện TensorFlow 1.x và đặt tên viết tắt là 'tf'\n",
    "import tensorflow.compat.v1 as tf\n",
    "\n",
    "# Tắt tính năng eager execution trong TensorFlow 2.x để sử dụng được phiên bản 1.x\n",
    "tf.compat.v1.disable_eager_execution()\n",
    "\n",
    "# Định nghĩa một placeholder (điểm dừng) x là một tensor chứa các số thực (float32) với kích thước [None, 3].\n",
    "# [None, 3] có nghĩa là bạn có thể cung cấp bất kỳ số hàng nào, nhưng mỗi hàng phải có 3 giá trị.\n",
    "x = tf.placeholder(tf.float32, [None, 3])\n",
    "\n",
    "# Tạo một phép tính tensor y bằng cách cộng tensor x với chính nó.\n",
    "y = tf.add(x, x)\n",
    "\n",
    "# Bắt đầu một phiên làm việc TensorFlow.\n",
    "with tf.Session() as sess:\n",
    "    # Tạo một dữ liệu mẫu cho tensor x_data là một danh sách gồm một danh sách con chứa 3 giá trị float.\n",
    "    x_data = [[1.5, 2.0, 3.3]]\n",
    "\n",
    "    # Chạy phép tính trong đồ thị với dữ liệu đầu vào được cung cấp thông qua feed_dict.\n",
    "    result = sess.run(y, feed_dict={x: x_data})\n",
    "\n",
    "    # In kết quả ra màn hình.\n",
    "    print(result)\n",
    "```\n",
    "\n",
    "Code này thực hiện các bước sau:\n",
    "\n",
    "1. `import tensorflow.compat.v1 as tf`: Dòng này nhập thư viện TensorFlow và sử dụng phiên bản tương thích v1 của nó. Có thể cần sử dụng phiên bản tương thích khi bạn đang sử dụng TensorFlow 2.x, nhưng muốn sử dụng một số tính năng từ TensorFlow 1.x.\n",
    "\n",
    "2. `tf.compat.v1.disable_eager_execution()`: Hàm này tắt tính năng \"eager execution\" trong TensorFlow 2.x, chuyển về cách thực hiện tính toán theo cách truyền thống với TensorFlow 1.x. Trong eager execution, các phép tính được thực hiện ngay khi chúng được gọi, trong khi trong TensorFlow 1.x, bạn xây dựng đồ thị tính toán trước và thực hiện chúng trong một phiên TensorFlow riêng biệt.\n",
    "\n",
    "3. `x = tf.placeholder(tf.float32, [None, 3])`: Đây là một node trong đồ thị tính toán, nơi bạn có thể cung cấp dữ liệu đầu vào sau này. `tf.placeholder` được sử dụng để tạo một vị trí trống trong đồ thị để truyền dữ liệu vào. Trong trường hợp này, `x` là một tensor với kiểu dữ liệu `float32` và có hình dạng `[None, 3]`. `[None, 3]` có nghĩa là `x` có 3 cột (hoặc phần tử) và số hàng (batch size) có thể là bất kỳ (do `None`).\n",
    "\n",
    "4. `y = tf.add(x, x)`: Đây là một phần khác của đồ thị tính toán. Nó tạo ra một node mới `y`, là kết quả của phép cộng của `x` với chính nó. Nói cách khác, nó sẽ double mỗi phần tử trong `x`.\n",
    "\n",
    "5. `with tf.Session() as sess`: Đây là một cách để bắt đầu một phiên tính toán TensorFlow. Bên trong khối này, bạn có thể thực hiện các phép tính trong đồ thị tính toán.\n",
    "\n",
    "6. `x_data = [[1.5, 2.0, 3.3]]`: Đây là dữ liệu bạn muốn cung cấp cho biến `x`. Trong trường hợp này, bạn đang cung cấp một danh sách có một phần tử, và mỗi phần tử là một danh sách với 3 giá trị float.\n",
    "\n",
    "7. `result = sess.run(y, feed_dict={x: x_data})`: Dòng này thực hiện phép tính `y` (kết quả của phép cộng `x` với chính nó) trong phiên tính toán `sess`. Biến `x` được cung cấp với dữ liệu từ `x_data` thông qua tham số `feed_dict`. Kết quả của phép tính được lưu vào biến `result`.\n",
    "\n",
    "8. `print(result)`: In kết quả ra màn hình, trong trường hợp này, nó sẽ hiển thị kết quả của phép cộng `x` với chính nó với dữ liệu `x_data`. Kết quả này sẽ là một tensor chứa các giá trị gấp đôi của từng phần tử trong `x_data`.\n"
   ]
  },
  {
   "cell_type": "markdown",
   "metadata": {},
   "source": [
    "## Example 3\n"
   ]
  },
  {
   "cell_type": "code",
   "execution_count": 34,
   "metadata": {
    "ExecuteTime": {
     "start_time": "2023-09-18T05:25:54.497679900Z"
    }
   },
   "outputs": [
    {
     "name": "stdout",
     "output_type": "stream",
     "text": [
      "[[[2. 4. 6.]]]\n"
     ]
    }
   ],
   "source": [
    "import tensorflow.compat.v1 as tf\n",
    "\n",
    "tf.compat.v1.disable_eager_execution()\n",
    "\n",
    "x = tf.placeholder(tf.float32, [None, None, 3])\n",
    "y = tf.add(x, x)\n",
    "\n",
    "with tf.Session() as sess:\n",
    "    x_data = [[[1, 2, 3]]]\n",
    "    result = sess.run(y, feed_dict={x: x_data})\n",
    "    print(result)"
   ]
  },
  {
   "cell_type": "markdown",
   "metadata": {},
   "source": [
    "Code này sử dụng TensorFlow 1.x để định nghĩa và chạy một phép tính đơn giản cộng tensor `x` với chính nó, sử dụng một placeholder `x` để nhận dữ liệu đầu vào. Kết quả của phép tính này được in ra màn hình:\n",
    "\n",
    "```python\n",
    "import tensorflow.compat.v1 as tf\n",
    "\n",
    "# Tắt tính năng eager execution của TensorFlow 2.x\n",
    "tf.compat.v1.disable_eager_execution()\n",
    "\n",
    "# Định nghĩa một placeholder để nhận dữ liệu đầu vào là tensor 3 chiều với 3 phần tử\n",
    "x = tf.placeholder(tf.float32, [None, None, 3])\n",
    "\n",
    "# Tạo một phép tính TensorFlow để cộng tensor x với chính nó\n",
    "y = tf.add(x, x)\n",
    "\n",
    "# Tạo một phiên làm việc TensorFlow\n",
    "with tf.Session() as sess:\n",
    "    # Tạo dữ liệu đầu vào x_data là một tensor 3 chiều\n",
    "    x_data = [[[1, 2, 3]]]\n",
    "\n",
    "    # Chạy phép tính y và cung cấp dữ liệu đầu vào bằng feed_dict\n",
    "    result = sess.run(y, feed_dict={x: x_data})\n",
    "\n",
    "    # In kết quả\n",
    "    print(result)\n",
    "```\n",
    "\n",
    "Code này tạo một biểu đồ tính toán sử dụng TensorFlow 1, sử dụng placeholder để chứa dữ liệu đầu vào, và sau đó tính tổng của dữ liệu đầu vào với chính nó và in ra kết quả:\n",
    "\n",
    "1. `import tensorflow.compat.v1 as tf`: Đây là dòng import TensorFlow phiên bản 1. TensorFlow phiên bản 2 đã thay đổi một số cú pháp và API so với phiên bản 1.\n",
    "\n",
    "2. `tf.compat.v1.disable_eager_execution()`: Dòng này tắt tính năng eager execution của TensorFlow 2, để sử dụng API theo cách truyền thống của TensorFlow 1.\n",
    "\n",
    "3. `x = tf.placeholder(tf.float32, [None, None, 3])`: Tạo một placeholder (điểm dừng) tensor `x` có kiểu dữ liệu là float32 và kích thước là `[None, None, 3]`. `None` ở đây cho phép bạn đặt kích thước tensor sau này.\n",
    "\n",
    "4. `y = tf.add(x, x)`: Tạo một tensor `y` bằng cách thực hiện phép cộng giữa tensor `x` và chính nó. Kết quả này sẽ đơn giản là `x + x`.\n",
    "\n",
    "5. `with tf.Session() as sess:`: Tạo một phiên làm việc TensorFlow bằng cách sử dụng `tf.Session()`. Cú pháp này được sử dụng trong TensorFlow 1 để thực hiện các phép tính.\n",
    "\n",
    "6. `x_data = [[[1, 2, 3]]]`: Tạo dữ liệu đầu vào `x_data`, một tensor 3D với giá trị là `[[[1, 2, 3]]]`.\n",
    "\n",
    "7. `result = sess.run(y, feed_dict={x: x_data})`: Thực hiện phép tính `y` bằng cách sử dụng `sess.run()`. Giá trị của `x_data` được cung cấp thông qua `feed_dict`, và kết quả được lưu vào biến `result`.\n",
    "\n",
    "8. `print(result)`: In kết quả của phép tính `y`, trong trường hợp này, nó sẽ là kết quả của phép cộng `x + x` với `x_data`, cho nên kết quả in ra sẽ là `[[[2. 4. 6.]]]`.\n"
   ]
  },
  {
   "cell_type": "markdown",
   "metadata": {},
   "source": [
    "## Example 4\n"
   ]
  },
  {
   "cell_type": "code",
   "execution_count": 35,
   "metadata": {
    "ExecuteTime": {
     "start_time": "2023-09-18T05:25:54.500682900Z"
    }
   },
   "outputs": [
    {
     "name": "stdout",
     "output_type": "stream",
     "text": [
      "[[[ 2.  4.  6.]\n",
      "  [ 4.  6.  8.]\n",
      "  [ 4.  6. 10.]\n",
      "  [ 0.  2.  4.]]]\n"
     ]
    }
   ],
   "source": [
    "import tensorflow.compat.v1 as tf\n",
    "\n",
    "tf.compat.v1.disable_eager_execution()\n",
    "\n",
    "x = tf.placeholder(tf.float32, [None, 4, 3])\n",
    "y = tf.add(x, x)\n",
    "\n",
    "with tf.Session() as sess:\n",
    "    x_data = [[[1, 2, 3], [2, 3, 4], [2, 3, 5], [0, 1, 2]]]\n",
    "    result = sess.run(y, feed_dict={x: x_data})\n",
    "    print(result)"
   ]
  },
  {
   "cell_type": "markdown",
   "metadata": {},
   "source": [
    "Code sử dụng TensorFlow để thực hiện một số phép tính trên tensors và tạo một phiên làm việc TensorFlow để thực hiện các phép tính đó. Code này tạo một tensor mới \"y\" bằng cách cộng tensor \"x\" với chính nó, sau đó tính giá trị của \"y\" với dữ liệu đầu vào được cung cấp thông qua biến \"x_data\". Dưới đây là code đã được bổ sung thêm comment và giải thích:\n",
    "\n",
    "```python\n",
    "import tensorflow.compat.v1 as tf\n",
    "\n",
    "# Tắt tính năng eager execution của TensorFlow\n",
    "tf.compat.v1.disable_eager_execution()\n",
    "\n",
    "# Tạo một placeholder tensor \"x\" với dtype là float32 và kích thước [None, 4, 3]\n",
    "x = tf.placeholder(tf.float32, [None, 4, 3])\n",
    "\n",
    "# Tạo tensor \"y\" bằng cách cộng tensor \"x\" với chính nó\n",
    "y = tf.add(x, x)\n",
    "\n",
    "# Bắt đầu một phiên làm việc TensorFlow\n",
    "with tf.Session() as sess:\n",
    "    # Tạo dữ liệu đầu vào \"x_data\" là một tensor 3 chiều (1x4x3)\n",
    "    x_data = [[[1, 2, 3], [2, 3, 4], [2, 3, 5], [0, 1, 2]]]\n",
    "\n",
    "    # Thực hiện tính toán bằng cách chạy \"y\" với dữ liệu đầu vào được cung cấp thông qua feed_dict\n",
    "    result = sess.run(y, feed_dict={x: x_data})\n",
    "\n",
    "    # In kết quả ra màn hình\n",
    "    print(result)\n",
    "```\n",
    "\n",
    "Giải thích code:\n",
    "\n",
    "1. import TensorFlow và tắt tính năng eager execution để sử dụng phiên bản cũ của TensorFlow 1.x.\n",
    "\n",
    "2. Tạo một placeholder tensor \"x\" với dtype là float32 và kích thước [None, 4, 3]. Placeholder tensor này sẽ được sử dụng để chứa dữ liệu đầu vào sau này.\n",
    "\n",
    "3. Tạo tensor \"y\" bằng cách cộng tensor \"x\" với chính nó. Điều này tạo ra một tensor mới \"y\" có cùng kích thước và kiểu dữ liệu như \"x\".\n",
    "\n",
    "4. Bắt đầu một phiên làm việc TensorFlow bằng cách sử dụng `tf.Session()`.\n",
    "\n",
    "5. Dữ liệu đầu vào \"x_data\" được tạo thành một tensor 3 chiều với kích thước (1x4x3).\n",
    "\n",
    "6. Thực hiện tính toán bằng cách chạy tensor \"y\" với dữ liệu đầu vào được cung cấp thông qua `feed_dict`, và kết quả được lưu trong biến \"result\".\n",
    "\n",
    "7. Cuối cùng, kết quả của phép tính được in ra màn hình.\n"
   ]
  },
  {
   "cell_type": "markdown",
   "metadata": {},
   "source": [
    "## Example 5\n"
   ]
  },
  {
   "cell_type": "code",
   "execution_count": 36,
   "metadata": {
    "ExecuteTime": {
     "start_time": "2023-09-18T05:25:54.503680100Z"
    }
   },
   "outputs": [
    {
     "name": "stdout",
     "output_type": "stream",
     "text": [
      "[[[ 2.  4.  6.]\n",
      "  [ 4.  6.  8.]\n",
      "  [ 4.  6. 10.]\n",
      "  [ 0.  2.  4.]]\n",
      "\n",
      " [[ 2.  4.  6.]\n",
      "  [ 4.  6.  8.]\n",
      "  [ 4.  6. 10.]\n",
      "  [ 0.  2.  4.]]]\n"
     ]
    }
   ],
   "source": [
    "import tensorflow.compat.v1 as tf\n",
    "\n",
    "tf.compat.v1.disable_eager_execution()\n",
    "\n",
    "x = tf.placeholder(tf.float32, [2, 4, 3])\n",
    "y = tf.add(x, x)\n",
    "\n",
    "with tf.Session() as sess:\n",
    "    x_data = [\n",
    "        [[1, 2, 3], [2, 3, 4], [2, 3, 5], [0, 1, 2]],\n",
    "        [[1, 2, 3], [2, 3, 4], [2, 3, 5], [0, 1, 2]],\n",
    "    ]\n",
    "    result = sess.run(y, feed_dict={x: x_data})\n",
    "    print(result)"
   ]
  },
  {
   "cell_type": "markdown",
   "metadata": {},
   "source": [
    "Code sử dụng TensorFlow để thực hiện một số phép tính trên tensors và tạo một phiên làm việc TensorFlow để thực hiện các phép tính đó. Code này tạo một tensor mới \"y\" bằng cách cộng tensor \"x\" với chính nó, sau đó tính giá trị của \"y\" với dữ liệu đầu vào được cung cấp thông qua biến \"x_data\". Dưới đây là code đã được bổ sung thêm comment và giải thích:\n",
    "\n",
    "```python\n",
    "import tensorflow.compat.v1 as tf\n",
    "\n",
    "# Tắt tính năng eager execution của TensorFlow\n",
    "tf.compat.v1.disable_eager_execution()\n",
    "\n",
    "# Tạo một placeholder tensor \"x\" với dtype là float32 và kích thước [2, 4, 3]\n",
    "x = tf.placeholder(tf.float32, [2, 4, 3])\n",
    "\n",
    "# Tạo tensor \"y\" bằng cách cộng tensor \"x\" với chính nó\n",
    "y = tf.add(x, x)\n",
    "\n",
    "# Bắt đầu một phiên làm việc TensorFlow\n",
    "with tf.Session() as sess:\n",
    "    # Tạo dữ liệu đầu vào \"x_data\" là một danh sách gồm hai tensor 3 chiều (2x4x3)\n",
    "    x_data = [\n",
    "        [[1, 2, 3], [2, 3, 4], [2, 3, 5], [0, 1, 2]],\n",
    "        [[1, 2, 3], [2, 3, 4], [2, 3, 5], [0, 1, 2]],\n",
    "    ]\n",
    "\n",
    "    # Thực hiện tính toán bằng cách chạy \"y\" với dữ liệu đầu vào được cung cấp thông qua feed_dict\n",
    "    result = sess.run(y, feed_dict={x: x_data})\n",
    "\n",
    "    # In kết quả ra màn hình\n",
    "    print(result)\n",
    "```\n",
    "\n",
    "Giải thích mã:\n",
    "\n",
    "1. Mã import TensorFlow và tắt tính năng eager execution để sử dụng phiên bản cũ của TensorFlow 1.x.\n",
    "\n",
    "2. Mã tạo một placeholder tensor \"x\" với dtype là float32 và kích thước [2, 4, 3]. Placeholder tensor này có kích thước cố định.\n",
    "\n",
    "3. Mã tạo tensor \"y\" bằng cách cộng tensor \"x\" với chính nó. Điều này tạo ra một tensor mới \"y\" có cùng kích thước và kiểu dữ liệu như \"x\".\n",
    "\n",
    "4. Mã bắt đầu một phiên làm việc TensorFlow bằng cách sử dụng `tf.Session()`.\n",
    "\n",
    "5. Dữ liệu đầu vào \"x_data\" được tạo thành một danh sách gồm hai tensor 3 chiều (2x4x3).\n",
    "\n",
    "6. Mã thực hiện tính toán bằng cách chạy tensor \"y\" với dữ liệu đầu vào được cung cấp thông qua `feed_dict`, và kết quả được lưu trong biến \"result\".\n",
    "\n",
    "7. Cuối cùng, kết quả của phép tính được in ra màn hình.\n"
   ]
  },
  {
   "cell_type": "markdown",
   "metadata": {},
   "source": [
    "## Example 6\n"
   ]
  },
  {
   "cell_type": "code",
   "execution_count": 37,
   "metadata": {
    "ExecuteTime": {
     "start_time": "2023-09-18T05:25:54.506851100Z"
    }
   },
   "outputs": [
    {
     "name": "stdout",
     "output_type": "stream",
     "text": [
      "result1 = [[[ 2.  4.  6.]\n",
      "  [ 4.  6.  8.]\n",
      "  [ 4.  6. 10.]\n",
      "  [ 0.  2.  4.]]\n",
      "\n",
      " [[ 2.  4.  6.]\n",
      "  [ 4.  6.  8.]\n",
      "  [ 4.  6. 10.]\n",
      "  [ 0.  2.  4.]]]\n",
      "result2 = [[[ 1.  4.  9.]\n",
      "  [ 4.  9. 16.]\n",
      "  [ 4.  9. 25.]\n",
      "  [ 0.  1.  4.]]\n",
      "\n",
      " [[ 1.  4.  9.]\n",
      "  [ 4.  9. 16.]\n",
      "  [ 4.  9. 25.]\n",
      "  [ 0.  1.  4.]]]\n"
     ]
    }
   ],
   "source": [
    "import tensorflow.compat.v1 as tf\n",
    "\n",
    "tf.compat.v1.disable_eager_execution()\n",
    "\n",
    "x = tf.placeholder(tf.float32, [2, 4, 3])\n",
    "y = tf.placeholder(tf.float32, [2, 4, 3])\n",
    "\n",
    "z = tf.add(x, y)\n",
    "u = tf.multiply(x, y)\n",
    "\n",
    "with tf.Session() as sess:\n",
    "    x_data = [\n",
    "        [[1, 2, 3], [2, 3, 4], [2, 3, 5], [0, 1, 2]],\n",
    "        [[1, 2, 3], [2, 3, 4], [2, 3, 5], [0, 1, 2]],\n",
    "    ]\n",
    "    y_data = [\n",
    "        [[1, 2, 3], [2, 3, 4], [2, 3, 5], [0, 1, 2]],\n",
    "        [[1, 2, 3], [2, 3, 4], [2, 3, 5], [0, 1, 2]],\n",
    "    ]\n",
    "    result1 = sess.run(z, feed_dict={x: x_data, y: y_data})\n",
    "    result2 = sess.run(u, feed_dict={x: x_data, y: y_data})\n",
    "    print(\"result1 =\", result1)\n",
    "    print(\"result2 =\", result2)"
   ]
  },
  {
   "cell_type": "markdown",
   "metadata": {},
   "source": [
    "Code sử dụng TensorFlow để thực hiện một số phép tính trên tensors và tạo một phiên làm việc TensorFlow để thực hiện các phép tính đó. Dưới đây là phiên bản đã được bổ sung comment và giải thích cho mã Python sử dụng TensorFlow:\n",
    "\n",
    "```python\n",
    "import tensorflow.compat.v1 as tf\n",
    "\n",
    "# Tắt tính năng eager execution của TensorFlow\n",
    "tf.compat.v1.disable_eager_execution()\n",
    "\n",
    "# Tạo hai placeholder tensors \"x\" và \"y\" với dtype là float32 và kích thước [2, 4, 3]\n",
    "x = tf.placeholder(tf.float32, [2, 4, 3])\n",
    "y = tf.placeholder(tf.float32, [2, 4, 3])\n",
    "\n",
    "# Tạo tensor \"z\" bằng cách cộng tensor \"x\" và \"y\"\n",
    "z = tf.add(x, y)\n",
    "\n",
    "# Tạo tensor \"u\" bằng cách nhân tensor \"x\" và \"y\"\n",
    "u = tf.multiply(x, y)\n",
    "\n",
    "# Bắt đầu một phiên làm việc TensorFlow\n",
    "with tf.Session() as sess:\n",
    "    # Tạo dữ liệu đầu vào \"x_data\" và \"y_data\" là danh sách gồm hai tensor 3 chiều (2x4x3)\n",
    "    x_data = [\n",
    "        [[1, 2, 3], [2, 3, 4], [2, 3, 5], [0, 1, 2]],\n",
    "        [[1, 2, 3], [2, 3, 4], [2, 3, 5], [0, 1, 2]],\n",
    "    ]\n",
    "    y_data = [\n",
    "        [[1, 2, 3], [2, 3, 4], [2, 3, 5], [0, 1, 2]],\n",
    "        [[1, 2, 3], [2, 3, 4], [2, 3, 5], [0, 1, 2]],\n",
    "    ]\n",
    "\n",
    "    # Thực hiện tính toán tensor \"z\" và tensor \"u\" bằng cách chạy chúng với dữ liệu đầu vào được cung cấp thông qua feed_dict\n",
    "    result1 = sess.run(z, feed_dict={x: x_data, y: y_data})\n",
    "    result2 = sess.run(u, feed_dict={x: x_data, y: y_data})\n",
    "\n",
    "    # In kết quả ra màn hình\n",
    "    print(\"result1 =\", result1)\n",
    "    print(\"result2 =\", result2)\n",
    "```\n",
    "\n",
    "Giải thích mã:\n",
    "\n",
    "1. import TensorFlow và tắt tính năng eager execution để sử dụng phiên bản cũ của TensorFlow 1.x.\n",
    "\n",
    "2. Tạo hai placeholder tensors \"x\" và \"y\" với dtype là float32 và kích thước [2, 4, 3]. Placeholder tensors này có kích thước cố định.\n",
    "\n",
    "3. Tạo tensor \"z\" bằng cách cộng tensor \"x\" và \"y\" và tạo tensor \"u\" bằng cách nhân tensor \"x\" và \"y\".\n",
    "\n",
    "4. Bắt đầu một phiên làm việc TensorFlow bằng cách sử dụng `tf.Session()`.\n",
    "\n",
    "5. Dữ liệu đầu vào \"x_data\" và \"y_data\" được tạo thành danh sách gồm hai tensor 3 chiều (2x4x3) tương ứng.\n",
    "\n",
    "6. Thực hiện tính toán tensor \"z\" và tensor \"u\" bằng cách chạy chúng với dữ liệu đầu vào được cung cấp thông qua `feed_dict`, và kết quả được lưu trong biến \"result1\" và \"result2\".\n",
    "\n",
    "7. Cuối cùng, kết quả của cả hai phép tính được in ra màn hình.\n"
   ]
  },
  {
   "cell_type": "markdown",
   "metadata": {},
   "source": [
    "# 3.4\n"
   ]
  },
  {
   "cell_type": "markdown",
   "metadata": {},
   "source": [
    "## Example 1\n"
   ]
  },
  {
   "cell_type": "code",
   "execution_count": 38,
   "metadata": {
    "ExecuteTime": {
     "start_time": "2023-09-18T05:25:54.510851300Z"
    }
   },
   "outputs": [
    {
     "name": "stdout",
     "output_type": "stream",
     "text": [
      "0.98856974\n"
     ]
    }
   ],
   "source": [
    "import tensorflow.compat.v1 as tf\n",
    "\n",
    "tf.compat.v1.disable_eager_execution()\n",
    "\n",
    "x1 = tf.constant(5.3, tf.float32)\n",
    "x2 = tf.constant(1.5, tf.float32)\n",
    "w1 = tf.Variable(0.7, tf.float32)\n",
    "w2 = tf.Variable(0.5, tf.float32)\n",
    "u = tf.multiply(x1, w1)\n",
    "v = tf.multiply(x2, w2)\n",
    "z = tf.add(u, v)\n",
    "result = tf.sigmoid(z)\n",
    "init = tf.global_variables_initializer()\n",
    "\n",
    "with tf.Session() as sess:\n",
    "    sess.run(init)\n",
    "    print(sess.run(result))"
   ]
  },
  {
   "cell_type": "markdown",
   "metadata": {},
   "source": [
    "Code sử dụng TensorFlow để thực hiện một số phép tính trên tensors và tạo một session làm việc TensorFlow để thực hiện các phép tính đó. Dưới đây là phiên bản đã được bổ sung comment và giải thích cho code Python sử dụng TensorFlow:\n",
    "\n",
    "```python\n",
    "import tensorflow.compat.v1 as tf\n",
    "\n",
    "# Tắt eager execution của TensorFlow\n",
    "tf.compat.v1.disable_eager_execution()\n",
    "\n",
    "# Tạo các constant nodes x1, x2 với kiểu dữ liệu là float32\n",
    "x1 = tf.constant(5.3, tf.float32)\n",
    "x2 = tf.constant(1.5, tf.float32)\n",
    "\n",
    "# Tạo các variable nodes w1, w2 với kiểu dữ liệu là float32\n",
    "w1 = tf.Variable(0.7, tf.float32)\n",
    "w2 = tf.Variable(0.5, tf.float32)\n",
    "\n",
    "# Thực hiện phép nhân element-wise giữa x1 và w1, kết quả là một variable node và gán vào biến u, kiểu dữ liệu là float32\n",
    "u = tf.multiply(x1, w1)\n",
    "# Thực hiện phép nhân element-wise giữa x2 và w2, kết quả là một variable node và gán vào biến v, kiểu dữ liệu là float32\n",
    "v = tf.multiply(x2, w2)\n",
    "# Thực hiện phép cộng giữa u và v, kết quả là một variable node và gán vào biến z, kiểu dữ liệu là float32\n",
    "z = tf.add(u, v)\n",
    "# Thực hiện phép sigmoid trên z, kết quả là một variable node và gán vào biến result, kiểu dữ liệu là float32\n",
    "result = tf.sigmoid(z)\n",
    "# Khởi tạo tất cả các biến trong đồ thị tính toán\n",
    "init = tf.global_variables_initializer()\n",
    "\n",
    "# Tạo một phiên làm việc (Session) để thực thi các phép tính\n",
    "with tf.Session() as sess:\n",
    "    # Thực thi phần khởi tạo biến\n",
    "    sess.run(init)\n",
    "    # Thực thi phép tính sigmoid và lưu kết quả vào biến 'result' và in ra màn hình\n",
    "    print(sess.run(result))\n",
    "```\n",
    "\n",
    "Giải thích code:\n",
    "\n",
    "1. import TensorFlow và tắt tính năng eager execution để sử dụng phiên bản cũ của TensorFlow 1.x.\n",
    "2. Tạo các constant nodes x1, x2 với kiểu dữ liệu là float32.\n",
    "3. Tạo các variable nodes w1, w2 với kiểu dữ liệu là float32.\n",
    "4. Thực hiện phép nhân element-wise giữa x1 với w1 và x2 với w2, kết quả là một variable node và gán vào biến u và v, kiểu dữ liệu là float32.\n",
    "5. Thực hiện phép cộng giữa u và v, kết quả là một variable node và gán vào biến z, kiểu dữ liệu là float32.\n",
    "6. Thực hiện phép sigmoid trên z, kết quả là một variable node và gán vào biến result, kiểu dữ liệu là float32.\n",
    "7. Khởi tạo tất cả các biến trong đồ thị tính toán.\n",
    "8. Tạo một phiên làm việc (Session) để thực thi các phép tính.\n",
    "9. Thực thi phần khởi tạo biến.\n",
    "10. Thực thi phép tính sigmoid và lưu kết quả vào biến 'result' và in ra màn hình.\n"
   ]
  },
  {
   "cell_type": "markdown",
   "metadata": {},
   "source": [
    "## Example 2\n"
   ]
  },
  {
   "cell_type": "code",
   "execution_count": 39,
   "metadata": {
    "ExecuteTime": {
     "start_time": "2023-09-18T05:25:54.514851400Z"
    }
   },
   "outputs": [
    {
     "data": {
      "image/png": "[encoded data removed]",
      "text/plain": [
       "<Figure size 432x288 with 1 Axes>"
      ]
     },
     "metadata": {
      "needs_background": "light"
     },
     "output_type": "display_data"
    }
   ],
   "source": [
    "import numpy as np\n",
    "import matplotlib.pyplot as plt\n",
    "\n",
    "number_of_points = 500\n",
    "x_point = []\n",
    "y_point = []\n",
    "a = 0.22\n",
    "b = 0.78\n",
    "\n",
    "for i in range(number_of_points):\n",
    "    x = np.random.normal(0.0, 0.5)\n",
    "    y = a * x + b + np.random.normal(0.0, 0.1)\n",
    "    x_point.append([x])\n",
    "    y_point.append([y])\n",
    "\n",
    "plt.plot(x_point, y_point, \"o\", label=\"Input data\")\n",
    "plt.legend()\n",
    "plt.show()"
   ]
  },
  {
   "cell_type": "markdown",
   "metadata": {},
   "source": [
    "Code trên được sử dụng để tạo và hiển thị dữ liệu mô phỏng cho một mô hình tuyến tính đơn giản. Mục đích chính của code này là:\n",
    "\n",
    "1. Tạo dữ liệu mô phỏng: Sử dụng các tham số `a` và `b`, code tạo ra `number_of_points` điểm dữ liệu `(x, y)` sao cho `y` được tính theo phương trình tuyến tính `y = ax + b` với một lượng nhiễu ngẫu nhiên.\n",
    "\n",
    "2. Hiển thị dữ liệu trên đồ thị: Sau khi tạo dữ liệu, code sử dụng thư viện `matplotlib` để vẽ đồ thị biểu diễn các điểm dữ liệu. Các điểm dữ liệu được đánh dấu bằng \"o\" trên đồ thị.\n",
    "\n",
    "Mục đích chính của việc này là để kiểm tra và hiểu mối quan hệ giữa `x` và `y` trong một mô hình tuyến tính. Mô hình tuyến tính là một mô hình đơn giản trong machine learning và thống kê, và code này giúp bạn xem dữ liệu mô phỏng và mối quan hệ tuyến tính giữa các biến.\n",
    "\n",
    "Dưới đây là code đã được chú thích và giải thích:\n",
    "\n",
    "```python\n",
    "import numpy as np\n",
    "import matplotlib.pyplot as plt\n",
    "\n",
    "# Số lượng điểm dữ liệu\n",
    "number_of_points = 500\n",
    "\n",
    "# Khởi tạo các danh sách để lưu trữ dữ liệu x và y\n",
    "x_point = []\n",
    "y_point = []\n",
    "\n",
    "# Định nghĩa các hệ số a và b cho phương trình tuyến tính y = ax + b\n",
    "a = 0.22\n",
    "b = 0.78\n",
    "\n",
    "# Tạo dữ liệu mô phỏng\n",
    "for i in range(number_of_points):\n",
    "    # Tạo một điểm dữ liệu x ngẫu nhiên từ phân phối chuẩn với giá trị trung bình 0 và độ lệch chuẩn 0.5\n",
    "    x = np.random.normal(0.0, 0.5)\n",
    "\n",
    "    # Tính giá trị y tương ứng với x bằng cách sử dụng phương trình tuyến tính y = ax + b\n",
    "    # và thêm nhiễu ngẫu nhiên từ phân phối chuẩn với giá trị trung bình 0 và độ lệch chuẩn 0.1\n",
    "    y = a * x + b + np.random.normal(0.0, 0.1)\n",
    "\n",
    "    # Thêm x và y vào danh sách\n",
    "    x_point.append([x])\n",
    "    y_point.append([y])\n",
    "\n",
    "# Vẽ dữ liệu trên đồ thị\n",
    "plt.plot(x_point, y_point, \"o\", label=\"Input data\")\n",
    "plt.legend()\n",
    "plt.show()\n",
    "```\n",
    "\n",
    "Giải thích:\n",
    "\n",
    "1. `import numpy as np` và `import matplotlib.pyplot as plt`: Import thư viện numpy để làm việc với mảng và tính toán và thư viện matplotlib để vẽ đồ thị.\n",
    "\n",
    "2. `number_of_points = 500`: Định nghĩa số lượng điểm dữ liệu mà chúng ta muốn tạo.\n",
    "\n",
    "3. `x_point = []` và `y_point = []`: Khởi tạo danh sách trống để lưu trữ dữ liệu x và y.\n",
    "\n",
    "4. `a = 0.22` và `b = 0.78`: Định nghĩa hệ số a và b cho phương trình tuyến tính y = ax + b.\n",
    "\n",
    "5. Trong vòng lặp `for`, chúng ta tạo dữ liệu mô phỏng:\n",
    "\n",
    "   - Tạo một điểm dữ liệu x ngẫu nhiên từ phân phối chuẩn với giá trị trung bình 0 và độ lệch chuẩn 0.5.\n",
    "   - Tính giá trị y tương ứng với x bằng cách sử dụng phương trình tuyến tính y = ax + b và thêm nhiễu ngẫu nhiên từ phân phối chuẩn với giá trị trung bình 0 và độ lệch chuẩn 0.1.\n",
    "   - Thêm x và y vào danh sách `x_point` và `y_point`.\n",
    "\n",
    "6. Cuối cùng, chúng ta vẽ dữ liệu trên đồ thị sử dụng `plt.plot`, đánh dấu các điểm dữ liệu bằng \"o\" và đặt nhãn cho đồ thị. Sau đó, hiển thị đồ thị bằng `plt.show()`. Điều này giúp chúng ta thấy cách dữ liệu được phân phối và có thể quan sát mối quan hệ tuyến tính giữa x và y.\n"
   ]
  },
  {
   "cell_type": "markdown",
   "metadata": {},
   "source": [
    "## Example 3\n"
   ]
  },
  {
   "cell_type": "code",
   "execution_count": 40,
   "metadata": {
    "ExecuteTime": {
     "start_time": "2023-09-18T05:25:54.518033200Z"
    }
   },
   "outputs": [
    {
     "name": "stdout",
     "output_type": "stream",
     "text": [
      "[[0.7858349  0.85814893 0.9801597 ]]\n"
     ]
    }
   ],
   "source": [
    "import tensorflow.compat.v1 as tf\n",
    "\n",
    "tf.compat.v1.disable_eager_execution()\n",
    "\n",
    "x1 = tf.placeholder(tf.float32, [None, 3])\n",
    "x2 = tf.placeholder(tf.float32, [None, 3])\n",
    "\n",
    "w1 = tf.Variable([0.5, 0.4, 0.7], tf.float32)\n",
    "w2 = tf.Variable([0.8, 0.5, 0.6], tf.float32)\n",
    "\n",
    "u1 = tf.multiply(w1, x1)\n",
    "u2 = tf.multiply(w2, x2)\n",
    "v = tf.add(u1, u2)\n",
    "z = tf.sigmoid(v)\n",
    "\n",
    "init = tf.global_variables_initializer()\n",
    "\n",
    "with tf.Session() as sess:\n",
    "    x1_data = [[1, 2, 3]]\n",
    "    x2_data = [[1, 2, 3]]\n",
    "    sess.run(init)\n",
    "    result = sess.run(z, feed_dict={x1: x1_data, x2: x2_data})\n",
    "    print(result)"
   ]
  },
  {
   "cell_type": "markdown",
   "metadata": {},
   "source": [
    "Code Python trên sử dụng TensorFlow để thực hiện tính toán một mạng neuron đơn giản và giải thích cách code hoạt động:\n",
    "\n",
    "```python\n",
    "import tensorflow.compat.v1 as tf\n",
    "\n",
    "# Tắt tính năng eager execution\n",
    "tf.compat.v1.disable_eager_execution()\n",
    "\n",
    "# Định nghĩa placeholder để chứa dữ liệu đầu vào\n",
    "x1 = tf.placeholder(tf.float32, [None, 3])\n",
    "x2 = tf.placeholder(tf.float32, [None, 3])\n",
    "\n",
    "# Định nghĩa các trọng số (weights)\n",
    "w1 = tf.Variable([0.5, 0.4, 0.7], tf.float32)\n",
    "w2 = tf.Variable([0.8, 0.5, 0.6], tf.float32)\n",
    "\n",
    "# Tính tổng trọng số nhân với dữ liệu đầu vào\n",
    "u1 = tf.multiply(w1, x1)\n",
    "u2 = tf.multiply(w2, x2)\n",
    "\n",
    "# Tính tổng trọng số đã tính cho cả hai đầu vào\n",
    "v = tf.add(u1, u2)\n",
    "\n",
    "# Áp dụng hàm sigmoid để tính giá trị đầu ra\n",
    "z = tf.sigmoid(v)\n",
    "\n",
    "# Khởi tạo biến toàn cục\n",
    "init = tf.global_variables_initializer()\n",
    "\n",
    "# Bắt đầu một phiên làm việc TensorFlow\n",
    "with tf.Session() as sess:\n",
    "    x1_data = [[1, 2, 3]]\n",
    "    x2_data = [[1, 2, 3]]\n",
    "\n",
    "    # Khởi tạo các biến toàn cục\n",
    "    sess.run(init)\n",
    "\n",
    "    # Đưa dữ liệu vào placeholder và tính giá trị đầu ra\n",
    "    result = sess.run(z, feed_dict={x1: x1_data, x2: x2_data})\n",
    "\n",
    "    # In kết quả\n",
    "    print(result)\n",
    "```\n",
    "\n",
    "Giải thích code:\n",
    "\n",
    "1. Import thư viện TensorFlow và tắt eager execution để sử dụng các phiên bản cũ hơn của TensorFlow.\n",
    "2. Định nghĩa hai placeholder `x1` và `x2` để chứa dữ liệu đầu vào. Placeholder này sẽ được sử dụng để cung cấp dữ liệu đầu vào vào mạng neuron.\n",
    "3. Định nghĩa hai biến `w1` và `w2` để lưu trữ trọng số của mạng neuron.\n",
    "4. Tính tích của trọng số `w1` và `x1` và lưu vào biến `u1`, tương tự cho `w2` và `x2` được lưu vào biến `u2`.\n",
    "5. Tính tổng của `u1` và `u2` và lưu vào biến `v`.\n",
    "6. Áp dụng hàm sigmoid để tính giá trị đầu ra `z` của mạng neuron.\n",
    "7. Khởi tạo biến toàn cục.\n",
    "8. Bắt đầu một phiên làm việc TensorFlow (`with tf.Session() as sess`).\n",
    "9. Đưa dữ liệu vào placeholder bằng cách sử dụng `feed_dict` và tính giá trị đầu ra `z`.\n",
    "10. In giá trị đầu ra.\n"
   ]
  },
  {
   "cell_type": "markdown",
   "metadata": {},
   "source": [
    "## Example 4\n"
   ]
  },
  {
   "cell_type": "code",
   "execution_count": 41,
   "metadata": {},
   "outputs": [
    {
     "name": "stdout",
     "output_type": "stream",
     "text": [
      "[[2 2 2]\n",
      " [2 2 2]\n",
      " [2 2 2]]\n",
      "[[1 1 1]\n",
      " [1 1 1]\n",
      " [1 1 1]]\n",
      "[[2. 7. 2.]\n",
      " [1. 4. 2.]\n",
      " [9. 0. 2.]]\n",
      "result1:  [[6 6 6]\n",
      " [6 6 6]\n",
      " [6 6 6]]\n",
      "result2:  [[3 3 3]\n",
      " [3 3 3]\n",
      " [3 3 3]]\n",
      "result3:  55.999992\n"
     ]
    }
   ],
   "source": [
    "import tensorflow.compat.v1 as tf \n",
    "import numpy as np \n",
    "\n",
    "matrix1 = np.array([(2,2,2),(2,2,2),(2,2,2)],dtype = 'int32') \n",
    "matrix2 = np.array([(1,1,1),(1,1,1),(1,1,1)],dtype = 'int32') \n",
    "\n",
    "print (matrix1) \n",
    "print (matrix2) \n",
    "\n",
    "matrix1 = tf.constant(matrix1) \n",
    "matrix2 = tf.constant(matrix2) \n",
    "matrix_product = tf.matmul(matrix1, matrix2) \n",
    "matrix_sum = tf.add(matrix1,matrix2) \n",
    "matrix_3 = np.array([(2,7,2),(1,4,2),(9,0,2)],dtype = 'float32') \n",
    "print (matrix_3) \n",
    "\n",
    "matrix_det = tf.linalg.det(matrix_3) \n",
    "with tf.Session() as sess: \n",
    "  result1 = sess.run(matrix_product) \n",
    "  result2 = sess.run(matrix_sum) \n",
    "  result3 = sess.run(matrix_det) \n",
    "\n",
    "print ('result1: ', result1) \n",
    "print ('result2: ', result2) \n",
    "print ('result3: ', result3)"
   ]
  },
  {
   "cell_type": "markdown",
   "metadata": {},
   "source": [
    "Code trên được sử dụng để thực hiện các phép tính trên ma trận sử dụng thư viện TensorFlow và NumPy. Cụ thể, nó thực hiện các công việc sau:\n",
    "\n",
    "1. Tạo và in ra giá trị của hai ma trận numpy `matrix1` và `matrix2`. Hai ma trận này có giá trị bằng nhau và có kiểu dữ liệu là `int32`.\n",
    "\n",
    "2. Chuyển đổi `matrix1` và `matrix2` thành các constant TensorFlow để sử dụng chúng trong tính toán TensorFlow.\n",
    "\n",
    "3. Thực hiện phép nhân ma trận `matrix_product` và phép cộng ma trận `matrix_sum` bằng cách sử dụng các hàm TensorFlow `tf.matmul` và `tf.add`.\n",
    "\n",
    "4. Tạo một ma trận numpy `matrix_3` khác với kiểu dữ liệu là `float32` và in ra giá trị của nó.\n",
    "\n",
    "5. Tính định thức của `matrix_3` sử dụng hàm TensorFlow `tf.linalg.det`.\n",
    "\n",
    "6. Bắt đầu một phiên làm việc TensorFlow và thực hiện các phép tính trên các constant TensorFlow đã được tạo trước đó.\n",
    "\n",
    "7. In ra kết quả của phép nhân ma trận, phép cộng ma trận và định thức trên màn hình.\n",
    "\n",
    "```python\n",
    "# Import TensorFlow và NumPy\n",
    "import tensorflow.compat.v1 as tf\n",
    "import numpy as np\n",
    "\n",
    "# Khởi tạo hai ma trận numpy có kiểu dữ liệu là int32\n",
    "matrix1 = np.array([(2, 2, 2), (2, 2, 2), (2, 2, 2)], dtype='int32')\n",
    "matrix2 = np.array([(1, 1, 1), (1, 1, 1), (1, 1, 1)], dtype='int32')\n",
    "\n",
    "# In ra giá trị của hai ma trận\n",
    "print(matrix1)\n",
    "print(matrix2)\n",
    "\n",
    "# Chuyển đổi hai ma trận numpy thành các constant TensorFlow\n",
    "matrix1 = tf.constant(matrix1)\n",
    "matrix2 = tf.constant(matrix2)\n",
    "\n",
    "# Thực hiện phép nhân ma trận\n",
    "matrix_product = tf.matmul(matrix1, matrix2)\n",
    "\n",
    "# Thực hiện phép cộng hai ma trận\n",
    "matrix_sum = tf.add(matrix1, matrix2)\n",
    "\n",
    "# Khởi tạo một ma trận numpy khác với kiểu dữ liệu là float32\n",
    "matrix_3 = np.array([(2, 7, 2), (1, 4, 2), (9, 0, 2)], dtype='float32')\n",
    "\n",
    "# In ra giá trị của ma trận mới\n",
    "print(matrix_3)\n",
    "\n",
    "# Tính định thức của ma trận matrix_3 bằng TensorFlow\n",
    "matrix_det = tf.linalg.det(matrix_3)\n",
    "\n",
    "# Bắt đầu một phiên làm việc TensorFlow\n",
    "with tf.Session() as sess:\n",
    "    # Thực hiện phép nhân ma trận và lưu kết quả vào result1\n",
    "    result1 = sess.run(matrix_product)\n",
    "    \n",
    "    # Thực hiện phép cộng ma trận và lưu kết quả vào result2\n",
    "    result2 = sess.run(matrix_sum)\n",
    "    \n",
    "    # Tính định thức của ma trận và lưu kết quả vào result3\n",
    "    result3 = sess.run(matrix_det)\n",
    "\n",
    "# In ra kết quả của phép nhân, phép cộng, và định thức\n",
    "print ('result1: ', result1) \n",
    "print ('result2: ', result2) \n",
    "print ('result3: ', result3)\n",
    "```"
   ]
  },
  {
   "cell_type": "markdown",
   "metadata": {},
   "source": [
    "# 3.5\n"
   ]
  },
  {
   "cell_type": "markdown",
   "metadata": {},
   "source": [
    "## Code\n"
   ]
  },
  {
   "cell_type": "code",
   "execution_count": 42,
   "metadata": {},
   "outputs": [
    {
     "name": "stdout",
     "output_type": "stream",
     "text": [
      "Epoch:   200 \t Cost:    0.2964 \t W:0.5172 \t b:-1.084\n",
      "Epoch:   400 \t Cost:    0.2119 \t W:0.4599 \t b:-0.6781\n",
      "Epoch:   600 \t Cost:      0.16 \t W: 0.415 \t b:-0.3596\n",
      "Epoch:   800 \t Cost:     0.128 \t W:0.3798 \t b:-0.1097\n",
      "Epoch:  1000 \t Cost:    0.1084 \t W:0.3522 \t b:0.08619\n",
      "Epoch:  1200 \t Cost:   0.09627 \t W:0.3305 \t b:0.2399\n",
      "Epoch:  1400 \t Cost:   0.08882 \t W:0.3135 \t b:0.3604\n",
      "Epoch:  1600 \t Cost:   0.08425 \t W:0.3001 \t b: 0.455\n",
      "Epoch:  1800 \t Cost:   0.08143 \t W:0.2897 \t b:0.5291\n",
      "Epoch:  2000 \t Cost:    0.0797 \t W:0.2815 \t b:0.5873\n",
      "Optimization Finished!\n",
      "Final training cost: 0.07969851 W: 0.28147176 b: 0.5872716 \n",
      "\n"
     ]
    },
    {
     "data": {
      "image/png": "[encoded data removed]",
      "text/plain": [
       "<Figure size 432x288 with 1 Axes>"
      ]
     },
     "metadata": {
      "needs_background": "light"
     },
     "output_type": "display_data"
    },
    {
     "name": "stdout",
     "output_type": "stream",
     "text": [
      "Final testing cost: 0.075300016\n",
      "Absolute mean square loss difference: 0.004398495\n"
     ]
    },
    {
     "data": {
      "image/png": "[encoded data removed]",
      "text/plain": [
       "<Figure size 432x288 with 1 Axes>"
      ]
     },
     "metadata": {
      "needs_background": "light"
     },
     "output_type": "display_data"
    }
   ],
   "source": [
    "# Import thư viện TensorFlow phiên bản 1.x và các thư viện khác cần thiết\n",
    "import tensorflow.compat.v1 as tf\n",
    "import numpy as np\n",
    "import matplotlib.pyplot as plt\n",
    "\n",
    "tf.disable_eager_execution()\n",
    "\n",
    "# Thiết lập các tham số cho quá trình huấn luyện\n",
    "learning_rate = 0.01\n",
    "training_epochs = 2000\n",
    "display_step = 200\n",
    "\n",
    "# Dữ liệu huấn luyện, gồm các điểm dữ liệu X và nhãn y tương ứng\n",
    "train_X = np.asarray(\n",
    "    [\n",
    "        3.3,\n",
    "        4.4,\n",
    "        5.5,\n",
    "        6.71,\n",
    "        6.93,\n",
    "        4.168,\n",
    "        9.779,\n",
    "        6.182,\n",
    "        7.59,\n",
    "        2.167,\n",
    "        7.042,\n",
    "        10.791,\n",
    "        5.313,\n",
    "        7.997,\n",
    "        5.654,\n",
    "        9.27,\n",
    "        3.1,\n",
    "    ]\n",
    ")\n",
    "train_y = np.asarray(\n",
    "    [\n",
    "        1.7,\n",
    "        2.76,\n",
    "        2.09,\n",
    "        3.19,\n",
    "        1.694,\n",
    "        1.573,\n",
    "        3.366,\n",
    "        2.596,\n",
    "        2.53,\n",
    "        1.221,\n",
    "        2.827,\n",
    "        3.465,\n",
    "        1.65,\n",
    "        2.904,\n",
    "        2.42,\n",
    "        2.94,\n",
    "        1.3,\n",
    "    ]\n",
    ")\n",
    "\n",
    "# Số lượng mẫu dữ liệu huấn luyện\n",
    "n_samples = train_X.shape[0]\n",
    "\n",
    "# Dữ liệu kiểm tra\n",
    "test_X = np.asarray([6.83, 4.668, 8.9, 7.91, 5.7, 8.7, 3.1, 2.1])\n",
    "test_y = np.asarray([1.84, 2.273, 3.2, 2.831, 2.92, 3.24, 1.35, 1.03])\n",
    "\n",
    "# Khai báo biến đầu tiên (weight) và biến thứ hai (bias) của mô hình\n",
    "W = tf.Variable(np.random.randn(), name=\"weight\")\n",
    "b = tf.Variable(np.random.randn(), name=\"bias\")\n",
    "\n",
    "X = tf.placeholder(tf.float32) \n",
    "y = tf.placeholder(tf.float32)\n",
    "\n",
    "# Xây dựng mô hình tuyến tính: linear_model = W * X + b\n",
    "linear_model = W * X + b\n",
    "\n",
    "# Tính toán hàm mất mát bằng cách tính bình phương sai số và lấy trung bình\n",
    "cost = tf.reduce_sum(tf.square(linear_model - y)) / (2 * n_samples)\n",
    "\n",
    "# Sử dụng tối ưu hóa gradient descent để cập nhật weight (W) và bias (b)\n",
    "optimizer = tf.train.GradientDescentOptimizer(learning_rate).minimize(cost)\n",
    "\n",
    "# Khởi tạo tất cả các biến trong mô hình\n",
    "init = tf.global_variables_initializer()\n",
    "\n",
    "# Bắt đầu phiên làm việc với TensorFlow\n",
    "with tf.Session() as sess:\n",
    "    sess.run(init)\n",
    "    for epoch in range(training_epochs):\n",
    "        # Thực hiện một vòng lặp huấn luyện\n",
    "        sess.run(optimizer, feed_dict={X: train_X, y: train_y})\n",
    "        if (epoch + 1) % display_step == 0:\n",
    "            # In thông tin về tiến trình huấn luyện\n",
    "            c = sess.run(cost, feed_dict={X: train_X, y: train_y})\n",
    "            print(\n",
    "                \"Epoch:{0:6} \\t Cost:{1:10.4} \\t W:{2:6.4} \\t b:{3:6.4}\".format(\n",
    "                    epoch + 1, c, sess.run(W), sess.run(b)\n",
    "                )\n",
    "            )\n",
    "    print(\"Optimization Finished!\")\n",
    "\n",
    "    # Tính giá trị mất mát trên tập huấn luyện cuối cùng\n",
    "    training_cost = sess.run(cost, feed_dict={X: train_X, y: train_y})\n",
    "    print(\n",
    "        \"Final training cost:\",\n",
    "        training_cost,\n",
    "        \"W:\",\n",
    "        sess.run(W),\n",
    "        \"b:\",\n",
    "        sess.run(b),\n",
    "        \"\\n\",\n",
    "    )\n",
    "\n",
    "    # Hiển thị đồ thị dữ liệu và đường tuyến tính tìm được\n",
    "    plt.plot(train_X, train_y, \"ro\", label=\"Original data\")\n",
    "    plt.plot(train_X, sess.run(W) * train_X + sess.run(b), label=\"Fitted line\")\n",
    "    plt.legend()\n",
    "    plt.show()\n",
    "\n",
    "    # Kiểm tra mô hình trên dữ liệu kiểm tra\n",
    "    testing_cost = sess.run(\n",
    "        tf.reduce_sum(tf.square(linear_model - y)) / (2 * test_X.shape[0]),\n",
    "        feed_dict={X: test_X, y: test_y},\n",
    "    )\n",
    "\n",
    "    print(\"Final testing cost:\", testing_cost)\n",
    "    print(\"Absolute mean square loss difference:\", abs(training_cost - testing_cost))\n",
    "\n",
    "    # Hiển thị đường tuyến tính trên dữ liệu kiểm tra\n",
    "    plt.plot(test_X, test_y, \"bo\", label=\"Testing data\")\n",
    "    plt.plot(train_X, sess.run(W) * train_X + sess.run(b), label=\"Fitted line\")\n",
    "    plt.legend()\n",
    "    plt.show()\n"
   ]
  },
  {
   "cell_type": "markdown",
   "metadata": {},
   "source": [
    "## Giải thích\n"
   ]
  },
  {
   "cell_type": "markdown",
   "metadata": {},
   "source": [
    "Code trên là một ví dụ đơn giản về việc sử dụng TensorFlow để tạo và huấn luyện một mô hình hồi quy tuyến tính trên dữ liệu giả định. Dưới đây là sự giải thích chi tiết cho từng phần của mã:\n",
    "\n",
    "1. **Import thư viện và khai báo tham số**: \n",
    "\n",
    "   ```python\n",
    "   import tensorflow.compat.v1 as tf\n",
    "   import numpy as np\n",
    "   import matplotlib.pyplot as plt\n",
    "   ```\n",
    "\n",
    "   Đầu tiên, các thư viện TensorFlow, NumPy và Matplotlib được import để sử dụng trong mã. TensorFlow phiên bản 1.x được sử dụng ở đây.\n",
    "\n",
    "   ```python\n",
    "   learning_rate = 0.01\n",
    "   training_epochs = 2000\n",
    "   display_step = 200\n",
    "   ```\n",
    "\n",
    "   Các tham số huấn luyện được định nghĩa ở đây, bao gồm tỷ lệ học (learning_rate), số lượng epoch (training_epochs) và bước hiển thị thông tin trong quá trình huấn luyện (display_step).\n",
    "\n",
    "2. **Dữ liệu huấn luyện và kiểm tra**:\n",
    "\n",
    "   ```python\n",
    "   train_X = np.asarray([...])\n",
    "   train_y = np.asarray([...])\n",
    "   ```\n",
    "\n",
    "   Dữ liệu huấn luyện và kiểm tra được định nghĩa ở đây. `train_X` là danh sách các giá trị đầu vào của dữ liệu huấn luyện, và `train_y` là các nhãn tương ứng. Tương tự, `test_X` và `test_y` đại diện cho dữ liệu kiểm tra.\n",
    "\n",
    "3. **Khai báo biến và mô hình**:\n",
    "\n",
    "   ```python\n",
    "   W = tf.Variable(np.random.randn(), name=\"weight\")\n",
    "   b = tf.Variable(np.random.randn(), name=\"bias\")\n",
    "   ```\n",
    "\n",
    "   Các biến weight (W) và bias (b) của mô hình được khai báo và khởi tạo với các giá trị ngẫu nhiên ban đầu.\n",
    "\n",
    "   ```python\n",
    "   X = tf.placeholder(tf.float32)\n",
    "   y = tf.placeholder(tf.float32)\n",
    "   ```\n",
    "\n",
    "   Hai placeholder `X` và `y` được sử dụng để đặt giá trị đầu vào và đầu ra của mô hình.\n",
    "\n",
    "   ```python\n",
    "   linear_model = W * X + b\n",
    "   ```\n",
    "\n",
    "   Mô hình tuyến tính được định nghĩa ở đây: `linear_model = W * X + b`.\n",
    "\n",
    "4. **Hàm mất mát và tối ưu hóa**:\n",
    "\n",
    "   ```python\n",
    "   cost = tf.reduce_sum(tf.square(linear_model - y)) / (2 * n_samples)\n",
    "   ```\n",
    "\n",
    "   Hàm mất mát (cost) được định nghĩa là bình phương sai số giữa giá trị dự đoán và giá trị thực tế, được chia cho hai lần số lượng mẫu huấn luyện.\n",
    "\n",
    "   ```python\n",
    "   optimizer = tf.train.GradientDescentOptimizer(learning_rate).minimize(cost)\n",
    "   ```\n",
    "\n",
    "   Một tối ưu hóa gradient descent được tạo để cập nhật weight (W) và bias (b) sao cho hàm mất mát được giảm thiểu.\n",
    "\n",
    "5. **Khởi tạo biến và phiên làm việc TensorFlow**:\n",
    "\n",
    "   ```python\n",
    "   init = tf.global_variables_initializer()\n",
    "   ```\n",
    "\n",
    "   Một toán tử khởi tạo được tạo để khởi tạo tất cả các biến trong mô hình.\n",
    "\n",
    "   ```python\n",
    "   with tf.Session() as sess:\n",
    "   ```\n",
    "\n",
    "   Sử dụng `tf.Session()` để bắt đầu phiên làm việc với TensorFlow.\n",
    "\n",
    "6. **Huấn luyện mô hình**:\n",
    "\n",
    "   ```python\n",
    "   for epoch in range(training_epochs):\n",
    "       sess.run(optimizer, feed_dict={X: train_X, y: train_y})\n",
    "       if (epoch + 1) % display_step == 0:\n",
    "           c = sess.run(cost, feed_dict={X: train_X, y: train_y})\n",
    "           print(\"Epoch:{0:6} \\t Cost:{1:10.4} \\t W:{2:6.4} \\t b:{3:6.4}\".format(epoch + 1, c, sess.run(W), sess.run(b)))\n",
    "   ```\n",
    "\n",
    "   Mô hình được huấn luyện qua nhiều epoch, trong mỗi epoch, weight và bias được cập nhật dựa trên dữ liệu huấn luyện. Thông tin về tiến trình huấn luyện được in ra màn hình sau mỗi `display_step` epoch.\n",
    "\n",
    "7. **Hiển thị đồ thị**:\n",
    "\n",
    "   ```python\n",
    "   plt.plot(train_X, train_y, \"ro\", label=\"Original data\")\n",
    "   plt.plot(train_X, sess.run(W) * train_X + sess.run(b), label=\"Fitted line\")\n",
    "   plt.legend()\n",
    "   plt.show()\n",
    "   ```\n",
    "\n",
    "   Sau khi huấn luyện, đồ thị dữ liệu gốc và đường tuyến tính tìm được được hiển thị để thấy mức độ phù hợp của mô hình.\n",
    "\n",
    "8. **Kiểm tra mô hình trên dữ liệu kiểm tra**:\n",
    "\n",
    "   ```python\n",
    "   testing_cost = sess.run(tf.reduce_sum(tf.square(linear_model - y)) / (2 * test_X.shape[0]), feed_dict={X: test_X, y: test_y})\n",
    "   ```\n",
    "\n",
    "   Mô hình được kiểm tra trên dữ liệu kiểm tra, và giá trị mất mát trên dữ liệu kiểm tra được tính.\n",
    "\n",
    "9. **Hiển thị đường tuyến tính trên dữ liệu kiểm tra**:\n",
    "\n",
    "   ```python\n",
    "   plt.plot(test_X, test_y, \"bo\", label=\"Testing data\")\n",
    "   plt.plot(train_X, sess.run(W) * train_X + sess.run(b), label=\"Fitted line\")\n",
    "   plt.legend()\n",
    "   plt.show()\n",
    "   ```\n",
    "\n",
    "   Đồ thị dữ liệu kiểm tra và đường tuyến tính được hiển thị để đánh giá hiệu suất của mô hình trên dữ liệu kiểm tra."
   ]
  },
  {
   "cell_type": "markdown",
   "metadata": {},
   "source": [
    "# 3.6"
   ]
  },
  {
   "cell_type": "markdown",
   "metadata": {},
   "source": [
    "## a. Đọc và hiểu"
   ]
  },
  {
   "cell_type": "code",
   "execution_count": 1,
   "metadata": {},
   "outputs": [
    {
     "data": {
      "text/plain": [
       "<matplotlib.image.AxesImage at 0x1fb631dd040>"
      ]
     },
     "execution_count": 1,
     "metadata": {},
     "output_type": "execute_result"
    },
    {
     "data": {
      "image/png": "[encoded data removed]",
      "text/plain": [
       "<Figure size 640x480 with 1 Axes>"
      ]
     },
     "metadata": {},
     "output_type": "display_data"
    }
   ],
   "source": [
    "import matplotlib.pyplot as plt\n",
    "import cv2\n",
    "\n",
    "img = cv2.imread(\"./anh/SharedScreenshot.png\")\n",
    "\n",
    "plt.imshow(img)\n",
    "# plt.show()"
   ]
  },
  {
   "cell_type": "markdown",
   "metadata": {},
   "source": [
    "Ý tưởng về **Activation functions** xuất phát từ việc phân tích các neuron trong não người hoạt động như nào. Các neuron trở nên tích cực (hoạt động) khi nhận được một tín hiệu đầu vào lớn hơn một ngưỡng nhất định. Tín hiệu này được truyền qua các neuron khác và cuối cùng được truyền đến các neuron đầu ra. Tương tự, trong mạng neuron nhân tạo, các neuron đầu ra cũng được tính toán dựa trên các neuron đầu vào. Tuy nhiên, các neuron trong mạng neuron nhân tạo không phải lúc nào cũng hoạt động như các neuron trong não người. Thay vào đó, các neuron trong mạng neuron nhân tạo được kích hoạt bằng các hàm kích hoạt (activation functions). Các hàm kích hoạt này có thể là các hàm tuyến tính hoặc phi tuyến tính. Các hàm kích hoạt phi tuyến tính được sử dụng phổ biến hơn vì chúng có thể giúp mô hình học được các mối quan hệ phức tạp hơn giữa các đặc trưng đầu vào và đầu ra.\n",
    "\n",
    "Trong sơ đồ ví dụ ở trên, chúng ta có thể thấy rằng mạng neuron này được chia ra làm 3 layer chính:\n",
    "1. Input layer: Layer đầu tiên của mạng neuron, nhận đầu vào là các đặc trưng của dữ liệu.\n",
    "2. Hidden layer: Layer ẩn, nhận đầu vào là đầu ra của layer trước đó và tính toán các giá trị ẩn.\n",
    "3. Output layer: Layer đầu ra, nhận đầu vào là đầu ra của layer trước đó và tính toán các giá trị đầu ra.\n",
    "\n",
    "Mỗi layer trong mạng neuron nhân tạo có thể có nhiều neuron. Các neuron trong một layer được kết nối với các neuron trong layer trước đó và layer sau đó. Các kết nối này được gọi là các trọng số (weights). Các trọng số này được cập nhật trong quá trình huấn luyện mô hình. Các neuron trong một layer được kích hoạt bằng các hàm kích hoạt (activation functions). Các hàm kích hoạt này có thể là các hàm tuyến tính hoặc phi tuyến tính. Các hàm kích hoạt phi tuyến tính được sử dụng phổ biến hơn vì chúng có thể giúp mô hình học được các mối quan hệ phức tạp hơn giữa các đặc trưng đầu vào và đầu ra.\n",
    "\n",
    "Các hàm kích hoạt phi tuyến tính phổ biến nhất được sử dụng trong mạng neuron nhân tạo là hàm sigmoid, hàm tanh, hàm ReLU và hàm softmax.\n",
    "\n",
    "1. **Hàm sigmoid**: Hàm sigmoid được định nghĩa là `f(x) = 1 / (1 + e^(-x))`. Hàm này có giá trị nằm trong khoảng (0, 1). Hàm sigmoid được sử dụng phổ biến trong các mạng neuron nhân tạo để tính toán xác suất của một điểm dữ liệu thuộc vào một lớp nào đó. Hàm sigmoid có đạo hàm dễ tính là `f'(x) = f(x) * (1 - f(x))`. Hàm sigmoid có dạng như sau:\n",
    "\n",
    "    <img src=\"https://media.geeksforgeeks.org/wp-content/uploads/20221013120722/1.png\">\n",
    "\n",
    "2. **Hàm tanh**: Hàm tanh được định nghĩa là `f(x) = (e^x - e^(-x)) / (e^x + e^(-x))`. Hàm này có giá trị nằm trong khoảng (-1, 1). Hàm tanh có đạo hàm dễ tính là `f'(x) = 1 - f(x)^2`. Hàm tanh có dạng như sau:\n",
    "\n",
    "    <img src=\"https://media.geeksforgeeks.org/wp-content/uploads/20190408115639/tanh3.png\">\n",
    "\n",
    "3. **Hàm ReLU**: Hàm ReLU được định nghĩa là `f(x) = max(0, x)`. Hàm này có giá trị nằm trong khoảng [0, +∞). Hàm ReLU có đạo hàm dễ tính là `f'(x) = 1 nếu x > 0, và 0 nếu x <= 0`. Hàm ReLU có dạng như sau:\n",
    "\n",
    "    <img src=\"https://cdncontribute.geeksforgeeks.org/wp-content/uploads/Screenshot-from-2018-01-04-22-45-49-e1515086199933.png\">\n",
    "\n",
    "4. **Hàm softmax**: Hàm softmax được định nghĩa là `f(x) = e^x / sum(e^x)`. Hàm này có giá trị nằm trong khoảng (0, 1). Hàm softmax được sử dụng phổ biến trong các mạng neuron nhân tạo để tính toán xác suất của một điểm dữ liệu thuộc vào một lớp nào đó. Hàm softmax có dạng như sau:\n",
    "\n",
    "    <img src=\"https://media.geeksforgeeks.org/wp-content/uploads/20190322133046/softmxx.png\">"
   ]
  },
  {
   "cell_type": "markdown",
   "metadata": {},
   "source": [
    "### Code mẫu"
   ]
  },
  {
   "cell_type": "code",
   "execution_count": 6,
   "metadata": {},
   "outputs": [],
   "source": [
    "import tensorflow.compat.v1 as tf\n",
    "import numpy as np\n",
    "\n",
    "tf.disable_eager_execution()\n",
    "\n",
    "sess = tf.Session()"
   ]
  },
  {
   "cell_type": "markdown",
   "metadata": {},
   "source": [
    "#### Hàm tanh"
   ]
  },
  {
   "cell_type": "code",
   "execution_count": 7,
   "metadata": {},
   "outputs": [
    {
     "name": "stdout",
     "output_type": "stream",
     "text": [
      "[ 1.          0.9640276   0.7615942   0.46211717  0.         -0.46211717\n",
      " -0.7615942  -0.9640276  -1.        ]\n"
     ]
    }
   ],
   "source": [
    "E = tf.nn.tanh([10, 2, 1, 0.5, 0, -0.5, -1., -2., -10.])\n",
    "print(sess.run(E))"
   ]
  },
  {
   "cell_type": "markdown",
   "metadata": {},
   "source": [
    "#### Hàm sigmoid"
   ]
  },
  {
   "cell_type": "code",
   "execution_count": 8,
   "metadata": {},
   "outputs": [
    {
     "name": "stdout",
     "output_type": "stream",
     "text": [
      "[9.9995458e-01 8.8079709e-01 7.3105860e-01 6.2245929e-01 5.0000000e-01\n",
      " 3.7754071e-01 2.6894143e-01 1.1920291e-01 4.5399931e-05]\n"
     ]
    }
   ],
   "source": [
    "J = tf.nn.sigmoid([10, 2, 1, 0.5, 0, -0.5, -1., -2., -10.])\n",
    "print(sess.run(J))"
   ]
  },
  {
   "cell_type": "markdown",
   "metadata": {},
   "source": [
    "#### Hàm ReLU"
   ]
  },
  {
   "cell_type": "code",
   "execution_count": 10,
   "metadata": {},
   "outputs": [
    {
     "name": "stdout",
     "output_type": "stream",
     "text": [
      "[ 0  1  0 13]\n"
     ]
    }
   ],
   "source": [
    "A = tf.nn.relu([-2, 1, -2, 13])\n",
    "print(sess.run(A))"
   ]
  },
  {
   "cell_type": "markdown",
   "metadata": {},
   "source": [
    "## b. Thiết kế mạng neuron ví dụ"
   ]
  },
  {
   "cell_type": "markdown",
   "metadata": {},
   "source": [
    "Mạng Neuron Đơn Giản\n",
    "-----------------------\n",
    "\n",
    "1. Đầu vào (input):\n",
    "    - Kích thước đầu vào: input_shape\n",
    "\n",
    "2. Lớp ẩn (Hidden Layer):\n",
    "    - Loại hàm kích hoạt: ReLU\n",
    "    - Số đơn vị ẩn: 32\n",
    "\n",
    "3. Lớp đầu ra (Output Layer):\n",
    "    - Loại hàm kích hoạt: Sigmoid\n",
    "    - Số đơn vị đầu ra: 1\n",
    "\n",
    "4. Biên dịch (Compilation):\n",
    "    - Hàm mất mát: binary_crossentropy\n",
    "    - Trình tối ưu: Adam\n",
    "    - Độ đo: accuracy"
   ]
  },
  {
   "cell_type": "code",
   "execution_count": 43,
   "metadata": {},
   "outputs": [
    {
     "name": "stdout",
     "output_type": "stream",
     "text": [
      "Model: \"sequential\"\n",
      "_________________________________________________________________\n",
      "Layer (type)                 Output Shape              Param #   \n",
      "=================================================================\n",
      "dense (Dense)                (None, 32)                352       \n",
      "_________________________________________________________________\n",
      "dense_1 (Dense)              (None, 1)                 33        \n",
      "=================================================================\n",
      "Total params: 385\n",
      "Trainable params: 385\n",
      "Non-trainable params: 0\n",
      "_________________________________________________________________\n"
     ]
    }
   ],
   "source": [
    "import tensorflow as tf\n",
    "from tensorflow.keras.models import Sequential\n",
    "from tensorflow.keras.layers import Dense\n",
    "# Đặt kích thước của input_shape là (10,) nếu có 10 đặc trưng.\n",
    "input_shape = (10,)\n",
    "\n",
    "# Tạo một mô hình Sequential\n",
    "model = Sequential()\n",
    "\n",
    "# Thêm một lớp ẩn với hàm kích hoạt ReLU và 32 đơn vị ẩn\n",
    "model.add(Dense(32, activation='relu', input_shape=input_shape))\n",
    "\n",
    "# Thêm lớp đầu ra với hàm kích hoạt Sigmoid \n",
    "# (phù hợp cho bài toán phân loại nhị phân)\n",
    "model.add(Dense(1, activation='sigmoid'))\n",
    "\n",
    "# Biên dịch mô hình với hàm mất mát và trình tối ưu\n",
    "model.compile(loss='binary_crossentropy', optimizer='adam', metrics=['accuracy'])\n",
    "\n",
    "# Hiển thị thông tin về mô hình\n",
    "model.summary()"
   ]
  },
  {
   "cell_type": "markdown",
   "metadata": {},
   "source": [
    "Mạng Neuron Sigmoid Đơn Giản\n",
    "------------------------------\n",
    "\n",
    "1. Khởi tạo một mạng neuron Sigmoid:\n",
    "    - Đầu vào (input_size): Số lượng trọng số (weights) của neuron.\n",
    "\n",
    "2. Trong khởi tạo:\n",
    "    - Khởi tạo ngẫu nhiên trọng số (weights) cho mỗi đầu vào.\n",
    "    - Khởi tạo ngẫu nhiên một độ lệch (bias).\n",
    "\n",
    "3. Hàm Sigmoid:\n",
    "    - Hàm sigmoid được định nghĩa như sau:\n",
    "      Sigmoid(x) = 1 / (1 + exp(-x))\n",
    "\n",
    "4. Quá trình tiến (forward):\n",
    "    - Nhận đầu vào (inputs).\n",
    "    - Tính tổng có trọng số của các đầu vào và áp dụng hàm Sigmoid.\n",
    "    - Trả về giá trị đầu ra của neuron.\n",
    "\n",
    "5. Tạo một mẫu neuron với 3 trọng số đầu vào (input weights).\n",
    "\n",
    "6. Đầu vào (inputs):\n",
    "    - Một mảng chứa giá trị đầu vào với 3 phần tử.\n",
    "\n",
    "7. Tính toán đầu ra của neuron:\n",
    "    - Sử dụng hàm forward để tính toán đầu ra của neuron dựa trên đầu vào đã cho.\n",
    "\n",
    "8. Hiển thị kết quả:\n",
    "    - In ra giá trị đầu vào và giá trị đầu ra của neuron.\n",
    "\n"
   ]
  },
  {
   "cell_type": "code",
   "execution_count": 44,
   "metadata": {},
   "outputs": [
    {
     "name": "stdout",
     "output_type": "stream",
     "text": [
      "Input: [0.5 0.7 0.2]\n",
      "Output: 0.6682353380446576\n"
     ]
    }
   ],
   "source": [
    "import numpy as np\n",
    "\n",
    "class SigmoidNeuron:\n",
    "    def __init__(self, input_size):\n",
    "        # Initialize weights and bias\n",
    "        self.weights = np.random.rand(input_size)\n",
    "        self.bias = np.random.rand()\n",
    "    \n",
    "    def sigmoid(self, x):\n",
    "        # Sigmoid activation function\n",
    "        return 1 / (1 + np.exp(-x))\n",
    "    \n",
    "    def forward(self, inputs):\n",
    "        # Calculate the weighted sum of inputs and apply the sigmoid activation function\n",
    "        weighted_sum = np.dot(inputs, self.weights) + self.bias\n",
    "        return self.sigmoid(weighted_sum)\n",
    "\n",
    "# Create a sample neuron with 3 input weights\n",
    "neuron = SigmoidNeuron(3)\n",
    "\n",
    "# Input values\n",
    "inputs = np.array([0.5, 0.7, 0.2])\n",
    "\n",
    "# Calculate the output of the neuron\n",
    "output = neuron.forward(inputs)\n",
    "\n",
    "print(\"Input:\", inputs)\n",
    "print(\"Output:\", output)\n"
   ]
  },
  {
   "cell_type": "markdown",
   "metadata": {},
   "source": [
    "# 3.7"
   ]
  },
  {
   "cell_type": "markdown",
   "metadata": {},
   "source": [
    "1. Import các thư viện cần thiết:\n",
    "   - `numpy` và `pandas` để làm việc với dữ liệu.\n",
    "   - `make_classification` từ `sklearn.datasets` để tạo dữ liệu giả lập cho bài toán phân loại nhị phân.\n",
    "\n",
    "2. Tạo dữ liệu mẫu:\n",
    "   - Sử dụng hàm `make_classification`, code tạo ra dữ liệu giả lập với các thông số sau:\n",
    "     - `n_samples=1000`: Số lượng mẫu dữ liệu sẽ được tạo.\n",
    "     - `n_features=5`: Số lượng đặc trưng (features) trong dữ liệu.\n",
    "     - `random_state=42`: Seed để có thể tái tạo dữ liệu giả lập.\n",
    "     - `n_classes=2`: Số lớp/classes của bài toán phân loại (2 lớp cho phân loại nhị phân).\n",
    "     - `weights=[0.7, 0.3]`: Tỷ lệ của các lớp, trong trường hợp này, lớp 0 có tỷ lệ 70% và lớp 1 có tỷ lệ 30%.\n",
    "   - Kết quả của hàm `make_classification` là dữ liệu và nhãn tương ứng.\n",
    "\n",
    "3. Đặt tên cho các features và nhãn:\n",
    "   - Dữ liệu và nhãn từ bước trước được lưu vào một DataFrame của pandas.\n",
    "   - Các cột của DataFrame được đặt tên tương ứng với từng feature, gồm 'tuoi', 'gioi_tinh', 'chieu_cao', 'can_nang', và 'luong_calo'.\n",
    "   - Cột 'giam_can' được thêm vào DataFrame để lưu nhãn của bài toán phân loại.\n",
    "\n",
    "4. Lưu dữ liệu vào file CSV"
   ]
  },
  {
   "cell_type": "code",
   "execution_count": 45,
   "metadata": {},
   "outputs": [],
   "source": [
    "import numpy as np\n",
    "import pandas as pd\n",
    "from sklearn.datasets import make_classification\n",
    "\n",
    "# Tạo dữ liệu giả lập với tên đặc trưng được đặt tên cụ thể\n",
    "X, y = make_classification(\n",
    "    n_samples=1000,\n",
    "    n_features=5,\n",
    "    random_state=42,\n",
    "    n_classes=2,\n",
    "    weights=[0.7, 0.3],\n",
    ")\n",
    "\n",
    "# Đặt tên cho các đặc trưng\n",
    "data = pd.DataFrame(data=X,columns=['tuoi', 'gioi_tinh', \n",
    "                                    'chieu_cao', 'can_nang', \n",
    "                                    'luong_calo'])\n",
    "data['giam_can'] = y\n",
    "\n",
    "# Lưu dữ liệu vào file CSV\n",
    "data.to_csv('./data/du-lieu-giam-can.csv', index=False)\n"
   ]
  },
  {
   "cell_type": "markdown",
   "metadata": {},
   "source": [
    "1. Import các thư viện cần thiết:\n",
    "   - `numpy` và `pandas` để làm việc với dữ liệu.\n",
    "   - `matplotlib.pyplot` để vẽ biểu đồ.\n",
    "   - `Sequential` và `Dense` từ `keras.models` để xây dựng mạng nơ-ron sâu (feedforward neural network).\n",
    "   - `train_test_split` từ `sklearn.model_selection` để chia dữ liệu thành tập huấn luyện và tập kiểm tra.\n",
    "   - `StandardScaler` từ `sklearn.preprocessing` để chuẩn hóa dữ liệu.\n",
    "\n",
    "2. Đọc dữ liệu từ file CSV:\n",
    "   - Dữ liệu được đọc từ một file CSV có tên \"du-lieu-giam-can.csv\" \n",
    "   - Dữ liệu này là dữ liệu về các đặc trưng (features) và kết quả (target) của việc giảm cân.\n",
    "\n",
    "3. Xác định features (đặc trưng) và target (kết quả):\n",
    "   - Cột \"giam_can\" được xác định là target (kết quả) và được lưu trong biến `y`.\n",
    "   - Các cột còn lại được lưu trong biến `X` là các đặc trưng.\n",
    "\n",
    "4. Chia dữ liệu thành tập huấn luyện và tập kiểm tra:\n",
    "   - Dữ liệu được chia thành tập huấn luyện và tập kiểm tra sử dụng hàm `train_test_split`. Tỷ lệ kiểm tra là 20% của tổng số dữ liệu.\n",
    "   - Dữ liệu huấn luyện được lưu trong `X_train` và `y_train`, còn dữ liệu kiểm tra được lưu trong `X_test` và `y_test`.\n",
    "\n",
    "5. Chuẩn hóa dữ liệu:\n",
    "   - Dữ liệu đầu vào (`X_train` và `X_test`) được chuẩn hóa bằng cách sử dụng `StandardScaler`. Quá trình chuẩn hóa này giúp đưa các đặc trưng về cùng một phạm vi giá trị để mô hình mạng nơ-ron học tốt hơn.\n",
    "\n",
    "6. Xây dựng mô hình mạng neuron sâu:\n",
    "   - Mô hình được xây dựng sử dụng một `Sequential` model, cho phép thêm các lớp một cách tuần tự.\n",
    "   - Các lớp ẩn được thêm vào mô hình sử dụng `model.add(Dense(...))`. Trong ví dụ này, có ba lớp ẩn với 128, 64, và 32 đơn vị kích hoạt \"relu\" tương ứng.\n",
    "   - Lớp đầu ra có một đơn vị với kích hoạt \"sigmoid\" để thực hiện phân loại nhị phân.\n",
    "\n",
    "7. Biên dịch mô hình:\n",
    "   - Mô hình được biên dịch bằng cách chỉ định optimizer (ở đây là \"adam\"), hàm mất mát (loss function, ở đây là \"binary_crossentropy\" cho bài toán phân loại nhị phân), và các metric để đánh giá mô hình (ở đây là \"accuracy\").\n",
    "\n",
    "8. Huấn luyện mô hình:\n",
    "   - Mô hình được huấn luyện trên dữ liệu huấn luyện sử dụng `model.fit()`. Trong ví dụ này, huấn luyện được thực hiện trong 50 epochs với batch size là 64.\n",
    "   - Lịch sử của quá trình huấn luyện (các giá trị của accuracy và val_accuracy trong từng epoch) được lưu trong biến `history`.\n",
    "\n",
    "9. Trực quan hóa đồ thị độ chính xác:\n",
    "   - Biểu đồ độ chính xác trên tập huấn luyện và tập kiểm tra được vẽ để đánh giá hiệu suất của mô hình trong quá trình huấn luyện.\n",
    "\n",
    "10. Đánh giá mô hình trên tập kiểm tra:\n",
    "    - Mô hình được đánh giá trên dữ liệu kiểm tra sử dụng hàm `model.evaluate()`, và giá trị loss và accuracy trên tập kiểm tra được lưu trong `test_loss` và `test_accuracy`.\n",
    "\n",
    "11. Dự đoán trên dữ liệu ngẫu nhiên:\n",
    "    - Dữ liệu ngẫu nhiên được tạo ra và chuẩn hóa để dự đoán khả năng giảm cân sử dụng mô hình đã huấn luyện. Dự đoán được lưu trong biến `prediction`."
   ]
  },
  {
   "cell_type": "code",
   "execution_count": 46,
   "metadata": {},
   "outputs": [
    {
     "name": "stdout",
     "output_type": "stream",
     "text": [
      "Train on 640 samples, validate on 160 samples\n",
      "Epoch 1/25\n",
      "640/640 [==============================] - 0s 328us/sample - loss: 0.5779 - accuracy: 0.7188 - val_loss: 0.4654 - val_accuracy: 0.8750\n",
      "Epoch 2/25\n",
      "640/640 [==============================] - 0s 33us/sample - loss: 0.4486 - accuracy: 0.8234 - val_loss: 0.3503 - val_accuracy: 0.9062\n",
      "Epoch 3/25\n",
      "640/640 [==============================] - 0s 38us/sample - loss: 0.3696 - accuracy: 0.8562 - val_loss: 0.2874 - val_accuracy: 0.9062\n",
      "Epoch 4/25\n",
      "640/640 [==============================] - 0s 33us/sample - loss: 0.3262 - accuracy: 0.8656 - val_loss: 0.2596 - val_accuracy: 0.9125\n",
      "Epoch 5/25\n",
      "640/640 [==============================] - 0s 41us/sample - loss: 0.3122 - accuracy: 0.8687 - val_loss: 0.2490 - val_accuracy: 0.9000\n",
      "Epoch 6/25\n",
      "640/640 [==============================] - 0s 33us/sample - loss: 0.3058 - accuracy: 0.8687 - val_loss: 0.2463 - val_accuracy: 0.9000\n"
     ]
    },
    {
     "name": "stderr",
     "output_type": "stream",
     "text": [
      "c:\\Users\\tien2\\miniconda3\\envs\\intel3.6\\lib\\site-packages\\keras\\engine\\training.py:2470: UserWarning: `Model.state_updates` will be removed in a future version. This property should not be used in TensorFlow 2.0, as `updates` are applied automatically.\n",
      "  warnings.warn('`Model.state_updates` will be removed in a future version. '\n"
     ]
    },
    {
     "name": "stdout",
     "output_type": "stream",
     "text": [
      "Epoch 7/25\n",
      "640/640 [==============================] - 0s 36us/sample - loss: 0.3002 - accuracy: 0.8656 - val_loss: 0.2430 - val_accuracy: 0.9000\n",
      "Epoch 8/25\n",
      "640/640 [==============================] - 0s 31us/sample - loss: 0.2981 - accuracy: 0.8734 - val_loss: 0.2396 - val_accuracy: 0.9125\n",
      "Epoch 9/25\n",
      "640/640 [==============================] - 0s 28us/sample - loss: 0.2935 - accuracy: 0.8734 - val_loss: 0.2377 - val_accuracy: 0.9125\n",
      "Epoch 10/25\n",
      "640/640 [==============================] - 0s 44us/sample - loss: 0.2910 - accuracy: 0.8750 - val_loss: 0.2358 - val_accuracy: 0.9125\n",
      "Epoch 11/25\n",
      "640/640 [==============================] - 0s 41us/sample - loss: 0.2865 - accuracy: 0.8750 - val_loss: 0.2339 - val_accuracy: 0.9125\n",
      "Epoch 12/25\n",
      "640/640 [==============================] - 0s 36us/sample - loss: 0.2840 - accuracy: 0.8734 - val_loss: 0.2301 - val_accuracy: 0.9125\n",
      "Epoch 13/25\n",
      "640/640 [==============================] - 0s 36us/sample - loss: 0.2810 - accuracy: 0.8750 - val_loss: 0.2288 - val_accuracy: 0.9125\n",
      "Epoch 14/25\n",
      "640/640 [==============================] - 0s 31us/sample - loss: 0.2779 - accuracy: 0.8750 - val_loss: 0.2262 - val_accuracy: 0.9187\n",
      "Epoch 15/25\n",
      "640/640 [==============================] - 0s 34us/sample - loss: 0.2734 - accuracy: 0.8797 - val_loss: 0.2243 - val_accuracy: 0.9187\n",
      "Epoch 16/25\n",
      "640/640 [==============================] - 0s 34us/sample - loss: 0.2696 - accuracy: 0.8797 - val_loss: 0.2231 - val_accuracy: 0.9187\n",
      "Epoch 17/25\n",
      "640/640 [==============================] - 0s 33us/sample - loss: 0.2665 - accuracy: 0.8781 - val_loss: 0.2194 - val_accuracy: 0.9250\n",
      "Epoch 18/25\n",
      "640/640 [==============================] - 0s 34us/sample - loss: 0.2607 - accuracy: 0.8828 - val_loss: 0.2141 - val_accuracy: 0.9250\n",
      "Epoch 19/25\n",
      "640/640 [==============================] - 0s 33us/sample - loss: 0.2560 - accuracy: 0.8844 - val_loss: 0.2098 - val_accuracy: 0.9250\n",
      "Epoch 20/25\n",
      "640/640 [==============================] - 0s 33us/sample - loss: 0.2498 - accuracy: 0.8891 - val_loss: 0.2076 - val_accuracy: 0.9312\n",
      "Epoch 21/25\n",
      "640/640 [==============================] - 0s 44us/sample - loss: 0.2472 - accuracy: 0.8922 - val_loss: 0.2037 - val_accuracy: 0.9375\n",
      "Epoch 22/25\n",
      "640/640 [==============================] - 0s 47us/sample - loss: 0.2417 - accuracy: 0.9031 - val_loss: 0.2018 - val_accuracy: 0.9438\n",
      "Epoch 23/25\n",
      "640/640 [==============================] - 0s 42us/sample - loss: 0.2347 - accuracy: 0.8984 - val_loss: 0.1971 - val_accuracy: 0.9438\n",
      "Epoch 24/25\n",
      "640/640 [==============================] - 0s 36us/sample - loss: 0.2308 - accuracy: 0.9062 - val_loss: 0.1948 - val_accuracy: 0.9563\n",
      "Epoch 25/25\n",
      "640/640 [==============================] - 0s 30us/sample - loss: 0.2267 - accuracy: 0.9109 - val_loss: 0.1914 - val_accuracy: 0.9500\n"
     ]
    }
   ],
   "source": [
    "import numpy as np\n",
    "import pandas as pd\n",
    "import matplotlib.pyplot as plt\n",
    "from keras.models import Sequential\n",
    "from keras.layers import Dense\n",
    "from sklearn.model_selection import train_test_split\n",
    "from sklearn.preprocessing import StandardScaler\n",
    "\n",
    "# Đọc dữ liệu từ file CSV\n",
    "data = pd.read_csv('./data/du-lieu-giam-can.csv')\n",
    "\n",
    "# Xác định features (đặc trưng) và target (kết quả)\n",
    "X = data.drop('giam_can', axis=1)  # Loại bỏ cột kết quả 'giam_can'\n",
    "y = data['giam_can']\n",
    "\n",
    "# Chia dữ liệu thành tập huấn luyện và tập kiểm tra\n",
    "X_train,X_test,\\\n",
    "y_train,y_test = train_test_split(X, y, \n",
    "                                  test_size=0.2, \n",
    "                                  random_state=42)\n",
    "\n",
    "# Chuẩn hóa dữ liệu\n",
    "scaler = StandardScaler()\n",
    "X_train = scaler.fit_transform(X_train)\n",
    "X_test = scaler.transform(X_test)\n",
    "\n",
    "# Xây dựng mô hình mạng neuron sâu\n",
    "model = Sequential()\n",
    "\n",
    "# Thêm các lớp ẩn (hidden layers)\n",
    "model.add(Dense(128, activation='relu', \n",
    "                input_shape=(X_train.shape[1],)))\n",
    "model.add(Dense(64, activation='relu'))\n",
    "model.add(Dense(32, activation='relu'))\n",
    "\n",
    "# Lớp đầu ra\n",
    "model.add(Dense(1, activation='sigmoid'))  \n",
    "\n",
    "# Biên dịch mô hình\n",
    "model.compile(optimizer='adam', \n",
    "              loss='binary_crossentropy', \n",
    "              metrics=['accuracy'])\n",
    "\n",
    "# Huấn luyện mô hình và lưu lại lịch sử (history) của quá trình huấn luyện\n",
    "history = model.fit(X_train, y_train, \n",
    "                    epochs=25, batch_size=64, \n",
    "                    validation_split=0.2)"
   ]
  },
  {
   "cell_type": "code",
   "execution_count": 47,
   "metadata": {},
   "outputs": [
    {
     "data": {
      "image/png": "[encoded data removed]",
      "text/plain": [
       "<Figure size 432x288 with 1 Axes>"
      ]
     },
     "metadata": {
      "needs_background": "light"
     },
     "output_type": "display_data"
    }
   ],
   "source": [
    "# Trực quan hóa đồ thị độ chính xác trên tập huấn luyện và tập kiểm tra\n",
    "plt.plot(history.history['accuracy'], label='accuracy')\n",
    "plt.plot(history.history['val_accuracy'], label = 'val_accuracy')\n",
    "plt.xlabel('Epoch')\n",
    "plt.ylabel('Accuracy')\n",
    "plt.ylim([0, 1])\n",
    "plt.legend(loc='lower right')\n",
    "plt.show()"
   ]
  },
  {
   "cell_type": "code",
   "execution_count": 48,
   "metadata": {},
   "outputs": [
    {
     "name": "stdout",
     "output_type": "stream",
     "text": [
      "Độ chính xác trên tập kiểm tra: 0.925\n",
      "Dự đoán khả năng giảm cân của dữ liệu ngẫu nhiên là: 0.52783\n"
     ]
    },
    {
     "name": "stderr",
     "output_type": "stream",
     "text": [
      "c:\\Users\\tien2\\miniconda3\\envs\\intel3.6\\lib\\site-packages\\keras\\engine\\training.py:2470: UserWarning: `Model.state_updates` will be removed in a future version. This property should not be used in TensorFlow 2.0, as `updates` are applied automatically.\n",
      "  warnings.warn('`Model.state_updates` will be removed in a future version. '\n"
     ]
    }
   ],
   "source": [
    "# Đánh giá mô hình trên tập kiểm tra\n",
    "test_loss, test_accuracy = model.evaluate(X_test, y_test)\n",
    "print(\"Độ chính xác trên tập kiểm tra:\", test_accuracy)\n",
    "\n",
    "# Tạo dữ liệu ngẫu nhiên để dự đoán\n",
    "random_data = np.random.rand(1, X_train.shape[1])  # Tạo dữ liệu ngẫu nhiên với số đặc trưng tương tự\n",
    "random_data = scaler.transform(random_data)  # Chuẩn hóa dữ liệu\n",
    "prediction = model.predict(random_data)\n",
    "print(\"Dự đoán khả năng giảm cân của dữ liệu ngẫu nhiên là:\", prediction[0][0])"
   ]
  }
 ],
 "metadata": {
  "kernelspec": {
   "display_name": "intel",
   "language": "python",
   "name": "python3"
  },
  "language_info": {
   "codemirror_mode": {
    "name": "ipython",
    "version": 3
   },
   "file_extension": ".py",
   "mimetype": "text/x-python",
   "name": "python",
   "nbconvert_exporter": "python",
   "pygments_lexer": "ipython3",
   "version": "3.6.13"
  },
  "orig_nbformat": 4
 },
 "nbformat": 4,
 "nbformat_minor": 2
}
