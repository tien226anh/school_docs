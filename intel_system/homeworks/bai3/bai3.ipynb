{
 "cells": [
  {
   "cell_type": "markdown",
   "metadata": {},
   "source": [
    "# 3.1\n"
   ]
  },
  {
   "cell_type": "code",
   "execution_count": 1,
   "metadata": {},
   "outputs": [
    {
     "name": "stdout",
     "output_type": "stream",
     "text": [
      "Sum of node1 and node2 is:  8.0\n"
     ]
    }
   ],
   "source": [
    "import tensorflow as tf\n",
    "\n",
    "tf.compat.v1.disable_eager_execution()\n",
    "\n",
    "# create nodes in computation graph\n",
    "node1 = tf.constant(3, dtype=tf.float32)\n",
    "node2 = tf.constant(5, dtype=tf.float32)\n",
    "node3 = tf.add(node1, node2)\n",
    "\n",
    "# create tensorflow session object\n",
    "sess = tf.compat.v1.Session()\n",
    "\n",
    "# evaluation node3 and print the result\n",
    "print(\"Sum of node1 and node2 is: \", sess.run(node3))\n",
    "# close the session\n",
    "sess.close()"
   ]
  },
  {
   "cell_type": "markdown",
   "metadata": {},
   "source": [
    "# 3.2\n"
   ]
  },
  {
   "cell_type": "code",
   "execution_count": 2,
   "metadata": {},
   "outputs": [
    {
     "name": "stdout",
     "output_type": "stream",
     "text": [
      "22.79\n"
     ]
    }
   ],
   "source": [
    "import tensorflow.compat.v1 as tf\n",
    "\n",
    "tf.compat.v1.disable_eager_execution()\n",
    "\n",
    "x1 = tf.Variable(5.3, tf.float32)\n",
    "x2 = tf.Variable(4.3, tf.float32)\n",
    "x = tf.multiply(x1, x2)\n",
    "\n",
    "init = tf.global_variables_initializer()\n",
    "with tf.Session() as sess:\n",
    "    sess.run(init)\n",
    "    t = sess.run(x)\n",
    "    print(t)"
   ]
  },
  {
   "cell_type": "code",
   "execution_count": 3,
   "metadata": {},
   "outputs": [
    {
     "name": "stdout",
     "output_type": "stream",
     "text": [
      "[[22.79 19.35 42.  ]\n",
      " [22.79 19.35 42.  ]]\n"
     ]
    }
   ],
   "source": [
    "import tensorflow.compat.v1 as tf\n",
    "\n",
    "tf.compat.v1.disable_eager_execution()\n",
    "\n",
    "x1 = tf.Variable([[5.3, 4.5, 6.0], [4.3, 4.3, 7.0]], tf.float32)\n",
    "x2 = tf.Variable([[4.3, 4.3, 7.0], [5.3, 4.5, 6.0]], tf.float32)\n",
    "x = tf.multiply(x1, x2)\n",
    "\n",
    "init = tf.global_variables_initializer()\n",
    "with tf.Session() as sess:\n",
    "    sess.run(init)\n",
    "    t = sess.run(x)\n",
    "    print(t)"
   ]
  },
  {
   "cell_type": "code",
   "execution_count": 4,
   "metadata": {},
   "outputs": [
    {
     "name": "stdout",
     "output_type": "stream",
     "text": [
      "Tensor value before addition:\n",
      " [[0. 0.]\n",
      " [0. 0.]]\n",
      "Tensor value after addition:\n",
      " [[1. 1.]\n",
      " [1. 1.]]\n"
     ]
    }
   ],
   "source": [
    "import tensorflow.compat.v1 as tf\n",
    "\n",
    "# creating nodes in computation graph\n",
    "node = tf.Variable(tf.zeros([2, 2]))\n",
    "\n",
    "# running computation graph\n",
    "with tf.Session() as sess:\n",
    "    # initialize all global variables\n",
    "    sess.run(tf.global_variables_initializer())\n",
    "\n",
    "    # evaluating node\n",
    "    print(\"Tensor value before addition:\\n\", sess.run(node))\n",
    "\n",
    "    # elementwise addition to tensor\n",
    "    node = node.assign(node + tf.ones([2, 2]))\n",
    "\n",
    "    # evaluate node again\n",
    "    print(\"Tensor value after addition:\\n\", sess.run(node))\n",
    "    sess.close()"
   ]
  },
  {
   "cell_type": "markdown",
   "metadata": {},
   "source": [
    "# 3.3\n"
   ]
  },
  {
   "cell_type": "code",
   "execution_count": 5,
   "metadata": {},
   "outputs": [
    {
     "name": "stdout",
     "output_type": "stream",
     "text": [
      "10.0\n"
     ]
    }
   ],
   "source": [
    "import tensorflow.compat.v1 as tf\n",
    "\n",
    "tf.compat.v1.disable_eager_execution()\n",
    "\n",
    "x = tf.placeholder(tf.float32, None)\n",
    "y = tf.add(x, x)\n",
    "\n",
    "with tf.Session() as sess:\n",
    "    x_data = 5\n",
    "    result = sess.run(y, feed_dict={x: x_data})\n",
    "    print(result)"
   ]
  },
  {
   "cell_type": "code",
   "execution_count": 6,
   "metadata": {},
   "outputs": [
    {
     "name": "stdout",
     "output_type": "stream",
     "text": [
      "[[3.  4.  6.6]]\n"
     ]
    }
   ],
   "source": [
    "import tensorflow.compat.v1 as tf\n",
    "\n",
    "tf.compat.v1.disable_eager_execution()\n",
    "\n",
    "x = tf.placeholder(tf.float32, [None, 3])\n",
    "y = tf.add(x, x)\n",
    "\n",
    "with tf.Session() as sess:\n",
    "    x_data = [[1.5, 2.0, 3.3]]\n",
    "    result = sess.run(y, feed_dict={x: x_data})\n",
    "    print(result)"
   ]
  },
  {
   "cell_type": "code",
   "execution_count": 7,
   "metadata": {},
   "outputs": [
    {
     "name": "stdout",
     "output_type": "stream",
     "text": [
      "[[[2. 4. 6.]]]\n"
     ]
    }
   ],
   "source": [
    "import tensorflow.compat.v1 as tf\n",
    "\n",
    "tf.compat.v1.disable_eager_execution()\n",
    "\n",
    "x = tf.placeholder(tf.float32, [None, None, 3])\n",
    "y = tf.add(x, x)\n",
    "\n",
    "with tf.Session() as sess:\n",
    "    x_data = [[[1, 2, 3]]]\n",
    "    result = sess.run(y, feed_dict={x: x_data})\n",
    "    print(result)"
   ]
  },
  {
   "cell_type": "code",
   "execution_count": 8,
   "metadata": {},
   "outputs": [
    {
     "name": "stdout",
     "output_type": "stream",
     "text": [
      "[[[ 2.  4.  6.]\n",
      "  [ 4.  6.  8.]\n",
      "  [ 4.  6. 10.]\n",
      "  [ 0.  2.  4.]]]\n"
     ]
    }
   ],
   "source": [
    "import tensorflow.compat.v1 as tf\n",
    "\n",
    "tf.compat.v1.disable_eager_execution()\n",
    "\n",
    "x = tf.placeholder(tf.float32, [None, 4, 3])\n",
    "y = tf.add(x, x)\n",
    "\n",
    "with tf.Session() as sess:\n",
    "    x_data = [[[1, 2, 3], [2, 3, 4], [2, 3, 5], [0, 1, 2]]]\n",
    "    result = sess.run(y, feed_dict={x: x_data})\n",
    "    print(result)"
   ]
  },
  {
   "cell_type": "code",
   "execution_count": 9,
   "metadata": {},
   "outputs": [
    {
     "name": "stdout",
     "output_type": "stream",
     "text": [
      "[[[ 2.  4.  6.]\n",
      "  [ 4.  6.  8.]\n",
      "  [ 4.  6. 10.]\n",
      "  [ 0.  2.  4.]]\n",
      "\n",
      " [[ 2.  4.  6.]\n",
      "  [ 4.  6.  8.]\n",
      "  [ 4.  6. 10.]\n",
      "  [ 0.  2.  4.]]]\n"
     ]
    }
   ],
   "source": [
    "import tensorflow.compat.v1 as tf\n",
    "\n",
    "tf.compat.v1.disable_eager_execution()\n",
    "\n",
    "x = tf.placeholder(tf.float32, [2, 4, 3])\n",
    "y = tf.add(x, x)\n",
    "\n",
    "with tf.Session() as sess:\n",
    "    x_data = [\n",
    "        [[1, 2, 3], [2, 3, 4], [2, 3, 5], [0, 1, 2]],\n",
    "        [[1, 2, 3], [2, 3, 4], [2, 3, 5], [0, 1, 2]],\n",
    "    ]\n",
    "    result = sess.run(y, feed_dict={x: x_data})\n",
    "    print(result)"
   ]
  },
  {
   "cell_type": "code",
   "execution_count": 10,
   "metadata": {},
   "outputs": [
    {
     "name": "stdout",
     "output_type": "stream",
     "text": [
      "result1 = [[[ 2.  4.  6.]\n",
      "  [ 4.  6.  8.]\n",
      "  [ 4.  6. 10.]\n",
      "  [ 0.  2.  4.]]\n",
      "\n",
      " [[ 2.  4.  6.]\n",
      "  [ 4.  6.  8.]\n",
      "  [ 4.  6. 10.]\n",
      "  [ 0.  2.  4.]]]\n",
      "result2 = [[[ 1.  4.  9.]\n",
      "  [ 4.  9. 16.]\n",
      "  [ 4.  9. 25.]\n",
      "  [ 0.  1.  4.]]\n",
      "\n",
      " [[ 1.  4.  9.]\n",
      "  [ 4.  9. 16.]\n",
      "  [ 4.  9. 25.]\n",
      "  [ 0.  1.  4.]]]\n"
     ]
    }
   ],
   "source": [
    "import tensorflow.compat.v1 as tf\n",
    "\n",
    "tf.compat.v1.disable_eager_execution()\n",
    "\n",
    "x = tf.placeholder(tf.float32, [2, 4, 3])\n",
    "y = tf.placeholder(tf.float32, [2, 4, 3])\n",
    "\n",
    "z = tf.add(x, y)\n",
    "u = tf.multiply(x, y)\n",
    "\n",
    "with tf.Session() as sess:\n",
    "    x_data = [\n",
    "        [[1, 2, 3], [2, 3, 4], [2, 3, 5], [0, 1, 2]],\n",
    "        [[1, 2, 3], [2, 3, 4], [2, 3, 5], [0, 1, 2]],\n",
    "    ]\n",
    "    y_data = [\n",
    "        [[1, 2, 3], [2, 3, 4], [2, 3, 5], [0, 1, 2]],\n",
    "        [[1, 2, 3], [2, 3, 4], [2, 3, 5], [0, 1, 2]],\n",
    "    ]\n",
    "    result1 = sess.run(z, feed_dict={x: x_data, y: y_data})\n",
    "    result2 = sess.run(u, feed_dict={x: x_data, y: y_data})\n",
    "    print(\"result1 =\", result1)\n",
    "    print(\"result2 =\", result2)"
   ]
  },
  {
   "cell_type": "markdown",
   "metadata": {},
   "source": [
    "# 3.4\n"
   ]
  },
  {
   "cell_type": "code",
   "execution_count": 11,
   "metadata": {},
   "outputs": [
    {
     "name": "stdout",
     "output_type": "stream",
     "text": [
      "0.98856974\n"
     ]
    }
   ],
   "source": [
    "import tensorflow.compat.v1 as tf\n",
    "\n",
    "tf.compat.v1.disable_eager_execution()\n",
    "\n",
    "x1 = tf.constant(5.3, tf.float32)\n",
    "x2 = tf.constant(1.5, tf.float32)\n",
    "w1 = tf.Variable(0.7, tf.float32)\n",
    "w2 = tf.Variable(0.5, tf.float32)\n",
    "u = tf.multiply(x1, w1)\n",
    "v = tf.multiply(x2, w2)\n",
    "z = tf.add(u, v)\n",
    "result = tf.sigmoid(z)\n",
    "init = tf.global_variables_initializer()\n",
    "\n",
    "with tf.Session() as sess:\n",
    "    sess.run(init)\n",
    "    print(sess.run(result))"
   ]
  },
  {
   "cell_type": "code",
   "execution_count": 12,
   "metadata": {},
   "outputs": [
    {
     "data": {
      "image/png": "[encoded data removed]",
      "text/plain": [
       "<Figure size 432x288 with 1 Axes>"
      ]
     },
     "metadata": {
      "needs_background": "light"
     },
     "output_type": "display_data"
    }
   ],
   "source": [
    "import numpy as np\n",
    "import matplotlib.pyplot as plt\n",
    "\n",
    "number_of_points = 500\n",
    "x_point = []\n",
    "y_point = []\n",
    "a = 0.22\n",
    "b = 0.78\n",
    "\n",
    "for i in range(number_of_points):\n",
    "    x = np.random.normal(0.0, 0.5)\n",
    "    y = a * x + b + np.random.normal(0.0, 0.1)\n",
    "    x_point.append([x])\n",
    "    y_point.append([y])\n",
    "\n",
    "plt.plot(x_point, y_point, \"o\", label=\"Input data\")\n",
    "plt.legend()\n",
    "plt.show()"
   ]
  },
  {
   "cell_type": "code",
   "execution_count": 25,
   "metadata": {},
   "outputs": [
    {
     "name": "stdout",
     "output_type": "stream",
     "text": [
      "[[0.7858349  0.85814893 0.9801597 ]]\n"
     ]
    }
   ],
   "source": [
    "import tensorflow.compat.v1 as tf\n",
    "\n",
    "tf.compat.v1.disable_eager_execution()\n",
    "\n",
    "x1 = tf.placeholder(tf.float32, [None, 3])\n",
    "x2 = tf.placeholder(tf.float32, [None, 3])\n",
    "\n",
    "w1 = tf.Variable([0.5, 0.4, 0.7], tf.float32)\n",
    "w2 = tf.Variable([0.8, 0.5, 0.6], tf.float32)\n",
    "\n",
    "u1 = tf.multiply(w1, x1)\n",
    "u2 = tf.multiply(w2, x2)\n",
    "v = tf.add(u1, u2)\n",
    "z = tf.sigmoid(v)\n",
    "\n",
    "init = tf.global_variables_initializer()\n",
    "\n",
    "with tf.Session() as sess:\n",
    "    x1_data = [[1, 2, 3]]\n",
    "    x2_data = [[1, 2, 3]]\n",
    "    sess.run(init)\n",
    "    result = sess.run(z, feed_dict={x1: x1_data, x2: x2_data})\n",
    "    print(result)"
   ]
  },
  {
   "cell_type": "code",
   "execution_count": 32,
   "metadata": {},
   "outputs": [
    {
     "name": "stdout",
     "output_type": "stream",
     "text": [
      "[[2 2 2]\n",
      " [2 2 2]\n",
      " [2 2 2]]\n",
      "[[1 1 1]\n",
      " [1 1 1]\n",
      " [1 1 1]]\n",
      "[[2. 7. 2.]\n",
      " [1. 4. 2.]\n",
      " [9. 0. 2.]]\n",
      "Tensor(\"MatMul_16:0\", shape=(3, 3), dtype=int32)\n",
      "Tensor(\"Add_27:0\", shape=(3, 3), dtype=int32)\n",
      "Tensor(\"MatrixDeterminant_15:0\", shape=(), dtype=float32)\n"
     ]
    }
   ],
   "source": [
    "import tensorflow as tf\n",
    "import numpy as np\n",
    "\n",
    "matrix1 = np.array([(2, 2, 2), (2, 2, 2), (2, 2, 2)], dtype=\"int32\")\n",
    "matrix2 = np.array([(1, 1, 1), (1, 1, 1), (1, 1, 1)], dtype=\"int32\")\n",
    "\n",
    "print(matrix1)\n",
    "print(matrix2)\n",
    "\n",
    "matrix1 = tf.constant(matrix1)\n",
    "matrix2 = tf.constant(matrix2)\n",
    "matrix_product = tf.matmul(matrix1, matrix2)\n",
    "matrix_sum = tf.add(matrix1, matrix2)\n",
    "matrix_3 = np.array([(2, 7, 2), (1, 4, 2), (9, 0, 2)], dtype=\"float32\")\n",
    "print(matrix_3)\n",
    "\n",
    "matrix_det = tf.linalg.det(matrix_3)\n",
    "# with tf.Session() as sess:\n",
    "#     result1 = sess.run(matrix_product)\n",
    "#     result2 = sess.run(matrix_sum)\n",
    "#     result3 = sess.run(matrix_det)\n",
    "\n",
    "print(matrix_product)\n",
    "print(matrix_sum)\n",
    "print(matrix_det)\n"
   ]
  },
  {
   "cell_type": "markdown",
   "metadata": {},
   "source": [
    "# 3.5"
   ]
  },
  {
   "cell_type": "code",
   "execution_count": 41,
   "metadata": {},
   "outputs": [
    {
     "name": "stdout",
     "output_type": "stream",
     "text": [
      "Epoch:   200 \t Cost:    0.1041 \t W:0.3451 \t b:0.1358\n",
      "Epoch:   400 \t Cost:   0.09367 \t W: 0.325 \t b:0.2788\n",
      "Epoch:   600 \t Cost:   0.08722 \t W:0.3092 \t b: 0.391\n",
      "Epoch:   800 \t Cost:   0.08326 \t W:0.2968 \t b:0.4789\n",
      "Epoch:  1000 \t Cost:   0.08083 \t W: 0.287 \t b:0.5479\n",
      "Epoch:  1200 \t Cost:   0.07933 \t W:0.2794 \t b: 0.602\n",
      "Epoch:  1400 \t Cost:    0.0784 \t W:0.2734 \t b:0.6445\n",
      "Epoch:  1600 \t Cost:   0.07784 \t W:0.2687 \t b:0.6777\n",
      "Epoch:  1800 \t Cost:   0.07749 \t W: 0.265 \t b:0.7038\n",
      "Epoch:  2000 \t Cost:   0.07727 \t W:0.2621 \t b:0.7243\n",
      "Optimization Finished!\n",
      "Final training cost: 0.077272184 W: 0.26214013 b: 0.72432417 \n",
      "\n"
     ]
    },
    {
     "data": {
      "image/png": "[encoded data removed]",
      "text/plain": [
       "<Figure size 432x288 with 1 Axes>"
      ]
     },
     "metadata": {
      "needs_background": "light"
     },
     "output_type": "display_data"
    },
    {
     "name": "stdout",
     "output_type": "stream",
     "text": [
      "Final testing cost: 0.07653485\n",
      "Absolute mean square loss difference: 0.0007373318\n"
     ]
    },
    {
     "data": {
      "image/png": "[encoded data removed]",
      "text/plain": [
       "<Figure size 432x288 with 1 Axes>"
      ]
     },
     "metadata": {
      "needs_background": "light"
     },
     "output_type": "display_data"
    }
   ],
   "source": [
    "import tensorflow.compat.v1 as tf\n",
    "import numpy as np\n",
    "import matplotlib.pyplot as plt\n",
    "\n",
    "learning_rate = 0.01\n",
    "training_epochs = 2000\n",
    "display_step = 200\n",
    "\n",
    "train_X = np.asarray(\n",
    "    [\n",
    "        3.3,\n",
    "        4.4,\n",
    "        5.5,\n",
    "        6.71,\n",
    "        6.93,\n",
    "        4.168,\n",
    "        9.779,\n",
    "        6.182,\n",
    "        7.59,\n",
    "        2.167,\n",
    "        7.042,\n",
    "        10.791,\n",
    "        5.313,\n",
    "        7.997,\n",
    "        5.654,\n",
    "        9.27,\n",
    "        3.1,\n",
    "    ]\n",
    ")\n",
    "train_y = np.asarray(\n",
    "    [\n",
    "        1.7,\n",
    "        2.76,\n",
    "        2.09,\n",
    "        3.19,\n",
    "        1.694,\n",
    "        1.573,\n",
    "        3.366,\n",
    "        2.596,\n",
    "        2.53,\n",
    "        1.221,\n",
    "        2.827,\n",
    "        3.465,\n",
    "        1.65,\n",
    "        2.904,\n",
    "        2.42,\n",
    "        2.94,\n",
    "        1.3,\n",
    "    ]\n",
    ")\n",
    "\n",
    "n_samples = train_X.shape[0]\n",
    "\n",
    "test_X = np.asarray([6.83, 4.668, 8.9, 7.91, 5.7, 8.7, 3.1, 2.1])\n",
    "\n",
    "X = tf.placeholder(tf.float32)\n",
    "y = tf.placeholder(tf.float32)\n",
    "\n",
    "test_y = np.asarray([1.84, 2.273, 3.2, 2.831, 2.92, 3.24, 1.35, 1.03])\n",
    "W = tf.Variable(np.random.randn(), name=\"weight\")\n",
    "b = tf.Variable(np.random.randn(), name=\"bias\")\n",
    "\n",
    "linear_model = W * X + b\n",
    "\n",
    "cost = tf.reduce_sum(tf.square(linear_model - y)) / (2 * n_samples)\n",
    "\n",
    "optimizer = tf.train.GradientDescentOptimizer(learning_rate).minimize(cost)\n",
    "\n",
    "init = tf.global_variables_initializer()\n",
    "\n",
    "with tf.Session() as sess:\n",
    "    sess.run(init)\n",
    "    for epoch in range(training_epochs):\n",
    "        sess.run(optimizer, feed_dict={X: train_X, y: train_y})\n",
    "        if (epoch + 1) % display_step == 0:\n",
    "            c = sess.run(cost, feed_dict={X: train_X, y: train_y})\n",
    "            print(\n",
    "                \"Epoch:{0:6} \\t Cost:{1:10.4} \\t W:{2:6.4} \\t b:{3:6.4}\".format(\n",
    "                    epoch + 1, c, sess.run(W), sess.run(b)\n",
    "                )\n",
    "            )\n",
    "    print(\"Optimization Finished!\")\n",
    "    training_cost = sess.run(cost, feed_dict={X: train_X, y: train_y})\n",
    "    print(\n",
    "        \"Final training cost:\",\n",
    "        training_cost,\n",
    "        \"W:\",\n",
    "        sess.run(W),\n",
    "        \"b:\",\n",
    "        sess.run(b),\n",
    "        \"\\n\",\n",
    "    )\n",
    "\n",
    "    # Graphic display\n",
    "    plt.plot(train_X, train_y, \"ro\", label=\"Original data\")\n",
    "    plt.plot(train_X, sess.run(W) * train_X + sess.run(b), label=\"Fitted line\")\n",
    "    plt.legend()\n",
    "    plt.show()\n",
    "\n",
    "    # Testing the model\n",
    "    testing_cost = sess.run(\n",
    "        tf.reduce_sum(tf.square(linear_model - y)) / (2 * test_X.shape[0]),\n",
    "        feed_dict={X: test_X, y: test_y},\n",
    "    )\n",
    "\n",
    "    print(\"Final testing cost:\", testing_cost)\n",
    "    print(\"Absolute mean square loss difference:\", abs(training_cost - testing_cost))\n",
    "\n",
    "    # Display fitted line on test data\n",
    "    plt.plot(test_X, test_y, \"bo\", label=\"Testing data\")\n",
    "    plt.plot(train_X, sess.run(W) * train_X + sess.run(b), label=\"Fitted line\")\n",
    "    plt.legend()\n",
    "    plt.show()"
   ]
  }
 ],
 "metadata": {
  "kernelspec": {
   "display_name": "intel",
   "language": "python",
   "name": "python3"
  },
  "language_info": {
   "codemirror_mode": {
    "name": "ipython",
    "version": 3
   },
   "file_extension": ".py",
   "mimetype": "text/x-python",
   "name": "python",
   "nbconvert_exporter": "python",
   "pygments_lexer": "ipython3",
   "version": "3.6.13"
  },
  "orig_nbformat": 4
 },
 "nbformat": 4,
 "nbformat_minor": 2
}
