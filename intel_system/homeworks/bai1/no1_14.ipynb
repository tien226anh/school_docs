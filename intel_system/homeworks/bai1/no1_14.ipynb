{
 "cells": [
  {
   "cell_type": "code",
   "execution_count": 48,
   "metadata": {},
   "outputs": [],
   "source": [
    "import numpy as np\n",
    "import pandas as pd\n",
    "import matplotlib.pyplot as plt\n",
    "from sklearn.model_selection import train_test_split\n",
    "from sklearn.linear_model import LinearRegression\n",
    "from sklearn.metrics import mean_squared_error\n",
    "from sklearn.datasets import fetch_openml"
   ]
  },
  {
   "cell_type": "code",
   "execution_count": 49,
   "metadata": {},
   "outputs": [
    {
     "name": "stderr",
     "output_type": "stream",
     "text": [
      "c:\\Users\\tien2\\miniconda3\\lib\\site-packages\\sklearn\\datasets\\_openml.py:1002: FutureWarning: The default value of `parser` will change from `'liac-arff'` to `'auto'` in 1.4. You can set `parser='auto'` to silence this warning. Therefore, an `ImportError` will be raised from 1.4 if the dataset is dense and pandas is not installed. Note that the pandas parser may return different data types. See the Notes Section in fetch_openml's API doc for details.\n",
      "  warn(\n"
     ]
    },
    {
     "data": {
      "text/plain": [
       "{'data':     Married  Age  Years_of_education Male Religious  Sex_partners   Income  \\\n",
       " 0         1   52                  14    0         1             1  32500.0   \n",
       " 1         0   58                  16    0         1             0  21250.0   \n",
       " 2         0   22                  14    1         1            15   2000.0   \n",
       " 3         1   35                  14    1         1             5  21250.0   \n",
       " 4         0   43                  20    1         1             1  67500.0   \n",
       " ..      ...  ...                 ...  ...       ...           ...      ...   \n",
       " 154       1   41                  19    1         0             1  27500.0   \n",
       " 155       1   29                  14    0         1             1  27500.0   \n",
       " 156       0   45                  12    1         1             1  16250.0   \n",
       " 157       1   35                  12    1         1             1  55000.0   \n",
       " 158       1   47                  12    0         1             1    500.0   \n",
       " \n",
       "     Drug_use Same_sex_relations  \n",
       " 0          0                  0  \n",
       " 1          0                  0  \n",
       " 2          0                  0  \n",
       " 3          0                  0  \n",
       " 4          0                  0  \n",
       " ..       ...                ...  \n",
       " 154        0                  0  \n",
       " 155        0                  0  \n",
       " 156        0                  0  \n",
       " 157        0                  0  \n",
       " 158        0                  0  \n",
       " \n",
       " [159 rows x 9 columns],\n",
       " 'target': 0      0\n",
       " 1      2\n",
       " 2      0\n",
       " 3      0\n",
       " 4      0\n",
       "       ..\n",
       " 154    0\n",
       " 155    0\n",
       " 156    0\n",
       " 157    0\n",
       " 158    1\n",
       " Name: AIDS_know, Length: 159, dtype: int64,\n",
       " 'frame':     Married  Age  Years_of_education Male Religious  Sex_partners   Income  \\\n",
       " 0         1   52                  14    0         1             1  32500.0   \n",
       " 1         0   58                  16    0         1             0  21250.0   \n",
       " 2         0   22                  14    1         1            15   2000.0   \n",
       " 3         1   35                  14    1         1             5  21250.0   \n",
       " 4         0   43                  20    1         1             1  67500.0   \n",
       " ..      ...  ...                 ...  ...       ...           ...      ...   \n",
       " 154       1   41                  19    1         0             1  27500.0   \n",
       " 155       1   29                  14    0         1             1  27500.0   \n",
       " 156       0   45                  12    1         1             1  16250.0   \n",
       " 157       1   35                  12    1         1             1  55000.0   \n",
       " 158       1   47                  12    0         1             1    500.0   \n",
       " \n",
       "     Drug_use Same_sex_relations  AIDS_know  \n",
       " 0          0                  0          0  \n",
       " 1          0                  0          2  \n",
       " 2          0                  0          0  \n",
       " 3          0                  0          0  \n",
       " 4          0                  0          0  \n",
       " ..       ...                ...        ...  \n",
       " 154        0                  0          0  \n",
       " 155        0                  0          0  \n",
       " 156        0                  0          0  \n",
       " 157        0                  0          0  \n",
       " 158        0                  0          1  \n",
       " \n",
       " [159 rows x 10 columns],\n",
       " 'categories': None,\n",
       " 'feature_names': ['Married',\n",
       "  'Age',\n",
       "  'Years_of_education',\n",
       "  'Male',\n",
       "  'Religious',\n",
       "  'Sex_partners',\n",
       "  'Income',\n",
       "  'Drug_use',\n",
       "  'Same_sex_relations'],\n",
       " 'target_names': ['AIDS_know'],\n",
       " 'DESCR': '**Author**:   \\n**Source**: Unknown - Date unknown  \\n**Please cite**:   \\n\\nanalcatdata    A collection of data sets used in the book \"Analyzing Categorical Data,\"\\nby Jeffrey S. Simonoff, Springer-Verlag, New York, 2003. The submission\\nconsists of a zip file containing two versions of each of 84 data sets,\\nplus this README file. Each data set is given in comma-delimited ASCII\\n(.csv) form, and Microsoft Excel (.xls) form.\\n\\nNOTICE: These data sets may be used freely for scientific, educational and/or\\nnoncommercial purposes, provided suitable acknowledgment is given (by citing\\nthe above-named reference).\\n\\nFurther details concerning the book, including information on statistical software\\n(including sample S-PLUS/R and SAS code), are available at the web site\\n\\nhttp://www.stern.nyu.edu/~jsimonof/AnalCatData\\n\\n\\nInformation about the dataset\\nCLASSTYPE: numeric\\nCLASSINDEX: last\\n\\n\\nNote: Quotes, Single-Quotes and Backslashes were removed, Blanks replaced\\nwith Underscores\\n\\nDownloaded from openml.org.',\n",
       " 'details': {'id': '506',\n",
       "  'name': 'analcatdata_gsssexsurvey',\n",
       "  'version': '1',\n",
       "  'description_version': '1',\n",
       "  'format': 'ARFF',\n",
       "  'creator': 'Jeffrey S. Simonoff',\n",
       "  'collection_date': '2003',\n",
       "  'upload_date': '2014-09-29T00:07:15',\n",
       "  'language': 'English',\n",
       "  'licence': 'Public',\n",
       "  'url': 'https://api.openml.org/data/v1/download/52618/analcatdata_gsssexsurvey.arff',\n",
       "  'parquet_url': 'http://openml1.win.tue.nl/dataset506/dataset_506.pq',\n",
       "  'file_id': '52618',\n",
       "  'default_target_attribute': 'AIDS_know',\n",
       "  'citation': 'Jeffrey S. Simonoff, Springer-Verlag, New York, 2003',\n",
       "  'visibility': 'public',\n",
       "  'original_data_url': 'http://www.stern.nyu.edu/~jsimonof/AnalCatData',\n",
       "  'minio_url': 'http://openml1.win.tue.nl/dataset506/dataset_506.pq',\n",
       "  'status': 'active',\n",
       "  'processing_date': '2020-11-20 19:45:07',\n",
       "  'md5_checksum': '20f8e3ca05aa824521dc28be7b5d0197'},\n",
       " 'url': 'https://www.openml.org/d/506'}"
      ]
     },
     "execution_count": 49,
     "metadata": {},
     "output_type": "execute_result"
    }
   ],
   "source": [
    "# Load the Boston Housing Dataset using fetch_openml\n",
    "boston = fetch_openml(data_id=506)\n",
    "boston"
   ]
  },
  {
   "cell_type": "code",
   "execution_count": 50,
   "metadata": {},
   "outputs": [],
   "source": [
    "# Convert the data to a DataFrame\n",
    "data = pd.DataFrame(data=boston.data, columns=boston.feature_names)\n",
    "data['MEDV'] = boston.target"
   ]
  },
  {
   "cell_type": "code",
   "execution_count": 51,
   "metadata": {},
   "outputs": [],
   "source": [
    "# Separate features (X) and target (y)\n",
    "X = data.drop('MEDV', axis=1)\n",
    "y = data['MEDV']"
   ]
  },
  {
   "cell_type": "code",
   "execution_count": 52,
   "metadata": {},
   "outputs": [],
   "source": [
    "# Split the data into training and testing sets\n",
    "X_train, X_test, y_train, y_test = train_test_split(X, y, test_size=0.2, random_state=42)"
   ]
  },
  {
   "cell_type": "code",
   "execution_count": 53,
   "metadata": {},
   "outputs": [],
   "source": [
    "X_train = X_train.dropna()\n",
    "X_test = X_test.dropna()\n",
    "y_train = y_train.dropna()\n",
    "y_test = y_test.dropna()"
   ]
  },
  {
   "cell_type": "code",
   "execution_count": null,
   "metadata": {},
   "outputs": [],
   "source": [
    "# Create and fit the Linear Regression model\n",
    "model = LinearRegression()\n",
    "model.fit(X=X_train,y=y_train)"
   ]
  },
  {
   "cell_type": "code",
   "execution_count": null,
   "metadata": {},
   "outputs": [],
   "source": [
    "# Make predictions on the testing set\n",
    "y_pred = model.predict(X_test)\n",
    "\n",
    "# Calculate the mean squared error\n",
    "mse = mean_squared_error(y_test, y_pred)\n",
    "print(f\"Mean Squared Error: {mse:.2f}\")\n",
    "\n",
    "# Display coefficients and intercept\n",
    "print(\"Coefficients:\", model.coef_)\n",
    "print(\"Intercept:\", model.intercept_)"
   ]
  }
 ],
 "metadata": {
  "kernelspec": {
   "display_name": "base",
   "language": "python",
   "name": "python3"
  },
  "language_info": {
   "codemirror_mode": {
    "name": "ipython",
    "version": 3
   },
   "file_extension": ".py",
   "mimetype": "text/x-python",
   "name": "python",
   "nbconvert_exporter": "python",
   "pygments_lexer": "ipython3",
   "version": "3.9.12"
  },
  "orig_nbformat": 4
 },
 "nbformat": 4,
 "nbformat_minor": 2
}
