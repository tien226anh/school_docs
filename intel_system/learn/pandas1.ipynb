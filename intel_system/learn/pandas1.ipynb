{
 "cells": [
  {
   "cell_type": "code",
   "execution_count": 6,
   "id": "initial_id",
   "metadata": {
    "collapsed": true,
    "ExecuteTime": {
     "end_time": "2023-08-15T11:44:51.624078Z",
     "start_time": "2023-08-15T11:44:49.513737100Z"
    }
   },
   "outputs": [
    {
     "name": "stdout",
     "output_type": "stream",
     "text": [
      "Requirement already satisfied: pandas in c:\\users\\tien2\\miniconda3\\lib\\site-packages (2.0.3)\n",
      "Requirement already satisfied: python-dateutil>=2.8.2 in c:\\users\\tien2\\miniconda3\\lib\\site-packages (from pandas) (2.8.2)\n",
      "Requirement already satisfied: pytz>=2020.1 in c:\\users\\tien2\\miniconda3\\lib\\site-packages (from pandas) (2022.7)\n",
      "Requirement already satisfied: numpy>=1.20.3 in c:\\users\\tien2\\miniconda3\\lib\\site-packages (from pandas) (1.25.2)\n",
      "Requirement already satisfied: tzdata>=2022.1 in c:\\users\\tien2\\miniconda3\\lib\\site-packages (from pandas) (2022.7)\n",
      "Requirement already satisfied: six>=1.5 in c:\\users\\tien2\\miniconda3\\lib\\site-packages (from python-dateutil>=2.8.2->pandas) (1.16.0)\n"
     ]
    },
    {
     "name": "stderr",
     "output_type": "stream",
     "text": [
      "WARNING: Ignoring invalid distribution -ffi (c:\\users\\tien2\\miniconda3\\lib\\site-packages)\n",
      "WARNING: Ignoring invalid distribution -ffi (c:\\users\\tien2\\miniconda3\\lib\\site-packages)\n",
      "WARNING: Ignoring invalid distribution -ffi (c:\\users\\tien2\\miniconda3\\lib\\site-packages)\n",
      "WARNING: Ignoring invalid distribution -ffi (c:\\users\\tien2\\miniconda3\\lib\\site-packages)\n",
      "WARNING: Ignoring invalid distribution -ffi (c:\\users\\tien2\\miniconda3\\lib\\site-packages)\n",
      "WARNING: Ignoring invalid distribution -ffi (c:\\users\\tien2\\miniconda3\\lib\\site-packages)\n"
     ]
    }
   ],
   "source": [
    "import sys\n",
    "!{sys.executable} -m pip install pandas"
   ]
  },
  {
   "cell_type": "code",
   "execution_count": 7,
   "outputs": [],
   "source": [
    "import pandas as pd"
   ],
   "metadata": {
    "collapsed": false,
    "ExecuteTime": {
     "end_time": "2023-08-15T11:44:51.948252900Z",
     "start_time": "2023-08-15T11:44:51.928131900Z"
    }
   },
   "id": "5e5497e8ea573a84"
  },
  {
   "cell_type": "code",
   "execution_count": 8,
   "outputs": [
    {
     "name": "stdout",
     "output_type": "stream",
     "text": [
      "0    1\n",
      "1    2\n",
      "2    3\n",
      "3    4\n",
      "4    5\n",
      "dtype: int64\n"
     ]
    }
   ],
   "source": [
    "series = pd.Series([1,2,3,4,5])\n",
    "print(series)"
   ],
   "metadata": {
    "collapsed": false,
    "ExecuteTime": {
     "end_time": "2023-08-15T11:44:57.128748500Z",
     "start_time": "2023-08-15T11:44:57.116949300Z"
    }
   },
   "id": "ab5c1bf91eaaa8be"
  },
  {
   "cell_type": "code",
   "execution_count": 9,
   "outputs": [
    {
     "name": "stdout",
     "output_type": "stream",
     "text": [
      "a    1\n",
      "b    2\n",
      "c    3\n",
      "d    4\n",
      "c    5\n",
      "dtype: int64\n"
     ]
    }
   ],
   "source": [
    "series = pd.Series([1,2,3,4,5], index=['a','b','c','d','c'])\n",
    "print(series)"
   ],
   "metadata": {
    "collapsed": false,
    "ExecuteTime": {
     "end_time": "2023-08-15T11:45:11.759856800Z",
     "start_time": "2023-08-15T11:45:11.629676600Z"
    }
   },
   "id": "e0c3360b9ed051db"
  },
  {
   "cell_type": "code",
   "execution_count": 12,
   "outputs": [
    {
     "name": "stdout",
     "output_type": "stream",
     "text": [
      "3\n",
      "3\n"
     ]
    }
   ],
   "source": [
    "print(series[2])\n",
    "print(series.iloc[2])"
   ],
   "metadata": {
    "collapsed": false,
    "ExecuteTime": {
     "end_time": "2023-08-15T11:45:55.760841100Z",
     "start_time": "2023-08-15T11:45:55.730645Z"
    }
   },
   "id": "5881fdb67bfdb54e"
  },
  {
   "cell_type": "code",
   "execution_count": 14,
   "outputs": [
    {
     "name": "stdout",
     "output_type": "stream",
     "text": [
      "4\n",
      "4\n"
     ]
    }
   ],
   "source": [
    "print(series['d'])\n",
    "print(series.loc['d'])"
   ],
   "metadata": {
    "collapsed": false,
    "ExecuteTime": {
     "end_time": "2023-08-15T11:46:21.488735400Z",
     "start_time": "2023-08-15T11:46:21.465739Z"
    }
   },
   "id": "c8eb2de990836a11"
  },
  {
   "cell_type": "code",
   "execution_count": 16,
   "outputs": [
    {
     "name": "stdout",
     "output_type": "stream",
     "text": [
      "DatetimeIndex(['2019-05-25', '2019-05-26', '2019-05-27', '2019-05-28',\n",
      "               '2019-05-29', '2019-05-30', '2019-05-31', '2019-06-01',\n",
      "               '2019-06-02', '2019-06-03', '2019-06-04', '2019-06-05'],\n",
      "              dtype='datetime64[ns]', freq='D')\n"
     ]
    }
   ],
   "source": [
    "dates1 = pd.date_range('20190525', periods=12)\n",
    "print(dates1)"
   ],
   "metadata": {
    "collapsed": false,
    "ExecuteTime": {
     "end_time": "2023-08-15T11:48:13.608895400Z",
     "start_time": "2023-08-15T11:48:13.545234400Z"
    }
   },
   "id": "f8a066bd404b12ff"
  },
  {
   "cell_type": "code",
   "execution_count": 19,
   "outputs": [],
   "source": [
    "data = {\n",
    "    'name': ['Janet', 'Nad', 'Timothy', 'June', 'Amy'],\n",
    "    'year': [2012, 2012, 2013, 2014, 2014],\n",
    "    'reports': [6,13,14,1,7]\n",
    "}\n"
   ],
   "metadata": {
    "collapsed": false,
    "ExecuteTime": {
     "end_time": "2023-08-15T11:50:01.392213700Z",
     "start_time": "2023-08-15T11:50:01.359797Z"
    }
   },
   "id": "6c03589f352bf568"
  },
  {
   "cell_type": "code",
   "execution_count": 20,
   "outputs": [
    {
     "name": "stdout",
     "output_type": "stream",
     "text": [
      "              name  year  reports\n",
      "Singapore    Janet  2012        6\n",
      "China          Nad  2012       13\n",
      "Japan      Timothy  2013       14\n",
      "Sweden        June  2014        1\n",
      "Norway         Amy  2014        7\n"
     ]
    }
   ],
   "source": [
    "df = pd.DataFrame(data, index=['Singapore', 'China', 'Japan', 'Sweden', 'Norway'])\n",
    "\n",
    "print(df)"
   ],
   "metadata": {
    "collapsed": false,
    "ExecuteTime": {
     "end_time": "2023-08-15T11:50:28.386751100Z",
     "start_time": "2023-08-15T11:50:28.372060900Z"
    }
   },
   "id": "3e932dcf9c184233"
  }
 ],
 "metadata": {
  "kernelspec": {
   "display_name": "Python 3",
   "language": "python",
   "name": "python3"
  },
  "language_info": {
   "codemirror_mode": {
    "name": "ipython",
    "version": 2
   },
   "file_extension": ".py",
   "mimetype": "text/x-python",
   "name": "python",
   "nbconvert_exporter": "python",
   "pygments_lexer": "ipython2",
   "version": "2.7.6"
  }
 },
 "nbformat": 4,
 "nbformat_minor": 5
}
