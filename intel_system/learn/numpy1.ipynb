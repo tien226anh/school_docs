{
 "cells": [
  {
   "cell_type": "code",
   "execution_count": null,
   "id": "5054c4da",
   "metadata": {},
   "outputs": [],
   "source": [
    "import sys\n",
    "!{sys.executable} -m pip install numpy"
   ]
  },
  {
   "cell_type": "code",
   "execution_count": 2,
   "id": "80b8392d",
   "metadata": {
    "ExecuteTime": {
     "end_time": "2023-08-15T11:32:49.715156700Z",
     "start_time": "2023-08-15T11:32:49.552820800Z"
    }
   },
   "outputs": [],
   "source": [
    "import numpy as np"
   ]
  },
  {
   "cell_type": "code",
   "execution_count": 3,
   "id": "fe434037",
   "metadata": {
    "ExecuteTime": {
     "end_time": "2023-08-15T11:32:53.039765300Z",
     "start_time": "2023-08-15T11:32:53.020359400Z"
    }
   },
   "outputs": [
    {
     "name": "stdout",
     "output_type": "stream",
     "text": [
      "[0 1 2 3 4 5 6 7 8 9]\n",
      "(10,)\n"
     ]
    }
   ],
   "source": [
    "a1 = np.arange(10)\n",
    "print(a1)\n",
    "print(a1.shape)"
   ]
  },
  {
   "cell_type": "code",
   "execution_count": 4,
   "outputs": [
    {
     "name": "stdout",
     "output_type": "stream",
     "text": [
      "[0 2 4 6 8]\n"
     ]
    }
   ],
   "source": [
    "a2 = np.arange(0,10,2)\n",
    "print(a2)"
   ],
   "metadata": {
    "collapsed": false,
    "ExecuteTime": {
     "end_time": "2023-08-15T11:33:27.697352700Z",
     "start_time": "2023-08-15T11:33:27.664191500Z"
    }
   },
   "id": "c1b3b42cb7eee085"
  },
  {
   "cell_type": "code",
   "execution_count": 8,
   "outputs": [
    {
     "name": "stdout",
     "output_type": "stream",
     "text": [
      "[0. 0. 0. 0. 0.]\n",
      "(5,)\n"
     ]
    }
   ],
   "source": [
    "a3 = np.zeros(5)\n",
    "print(a3)\n",
    "print(a3.shape)"
   ],
   "metadata": {
    "collapsed": false,
    "ExecuteTime": {
     "end_time": "2023-08-15T11:33:57.106629600Z",
     "start_time": "2023-08-15T11:33:57.076439500Z"
    }
   },
   "id": "553aff4e13ca56d2"
  },
  {
   "cell_type": "code",
   "execution_count": 11,
   "outputs": [
    {
     "name": "stdout",
     "output_type": "stream",
     "text": [
      "(2, 3)\n",
      "[[0. 0. 0.]\n",
      " [0. 0. 0.]]\n"
     ]
    }
   ],
   "source": [
    "a4 = np.zeros((2,3))\n",
    "print(a4.shape)\n",
    "print(a4)"
   ],
   "metadata": {
    "collapsed": false,
    "ExecuteTime": {
     "end_time": "2023-08-15T11:34:26.427321700Z",
     "start_time": "2023-08-15T11:34:26.410727800Z"
    }
   },
   "id": "f84fd2ef4231a396"
  },
  {
   "cell_type": "code",
   "execution_count": 13,
   "outputs": [
    {
     "name": "stdout",
     "output_type": "stream",
     "text": [
      "[[8 8 8]\n",
      " [8 8 8]]\n"
     ]
    }
   ],
   "source": [
    "a5 = np.full((2,3),8)\n",
    "print(a5)"
   ],
   "metadata": {
    "collapsed": false,
    "ExecuteTime": {
     "end_time": "2023-08-15T11:34:49.471532Z",
     "start_time": "2023-08-15T11:34:49.447401Z"
    }
   },
   "id": "aa1a5e2c881f6f41"
  },
  {
   "cell_type": "code",
   "execution_count": 15,
   "outputs": [
    {
     "name": "stdout",
     "output_type": "stream",
     "text": [
      "[[1. 0. 0. 0.]\n",
      " [0. 1. 0. 0.]\n",
      " [0. 0. 1. 0.]\n",
      " [0. 0. 0. 1.]]\n"
     ]
    }
   ],
   "source": [
    "a6 = np.eye(4)\n",
    "print(a6)"
   ],
   "metadata": {
    "collapsed": false,
    "ExecuteTime": {
     "end_time": "2023-08-15T11:35:42.361618500Z",
     "start_time": "2023-08-15T11:35:42.335685400Z"
    }
   },
   "id": "4dd2a4068050823"
  },
  {
   "cell_type": "code",
   "execution_count": 17,
   "outputs": [
    {
     "name": "stdout",
     "output_type": "stream",
     "text": [
      "[[0.53749999 0.24864656 0.06886703 0.04011139]\n",
      " [0.61170418 0.93314195 0.30992874 0.99164352]]\n"
     ]
    }
   ],
   "source": [
    "a7 = np.random.random((2,4))\n",
    "print(a7)"
   ],
   "metadata": {
    "collapsed": false,
    "ExecuteTime": {
     "end_time": "2023-08-15T11:36:08.446133300Z",
     "start_time": "2023-08-15T11:36:08.379286800Z"
    }
   },
   "id": "8b2a450f2280faea"
  },
  {
   "cell_type": "code",
   "execution_count": 19,
   "outputs": [
    {
     "name": "stdout",
     "output_type": "stream",
     "text": [
      "[1 2 3 4 5]\n"
     ]
    }
   ],
   "source": [
    "list1 = [1,2,3,4,5]\n",
    "\n",
    "r1 = np.array(list1)\n",
    "print(r1)"
   ],
   "metadata": {
    "collapsed": false,
    "ExecuteTime": {
     "end_time": "2023-08-15T11:36:39.653103700Z",
     "start_time": "2023-08-15T11:36:39.620968800Z"
    }
   },
   "id": "87513c6cb03f86d1"
  },
  {
   "cell_type": "code",
   "execution_count": 23,
   "outputs": [],
   "source": [
    "names = np.array(['Ann', 'Joe', 'Mark'])\n",
    "\n",
    "heights = np.array([1.5, 1.78, 1.6])\n",
    "weights = np.array([65, 46, 59])"
   ],
   "metadata": {
    "collapsed": false,
    "ExecuteTime": {
     "end_time": "2023-08-15T11:39:08.443947400Z",
     "start_time": "2023-08-15T11:39:08.428318800Z"
    }
   },
   "id": "412d0eb2a3574268"
  },
  {
   "cell_type": "code",
   "execution_count": 24,
   "outputs": [
    {
     "name": "stdout",
     "output_type": "stream",
     "text": [
      "[28.88888889 14.51836889 23.046875  ]\n"
     ]
    }
   ],
   "source": [
    "bmi = weights/heights **2\n",
    "\n",
    "print(bmi)"
   ],
   "metadata": {
    "collapsed": false,
    "ExecuteTime": {
     "end_time": "2023-08-15T11:39:21.955099400Z",
     "start_time": "2023-08-15T11:39:21.951800Z"
    }
   },
   "id": "5beed7fe74e5b3b2"
  }
 ],
 "metadata": {
  "kernelspec": {
   "display_name": "Python 3 (ipykernel)",
   "language": "python",
   "name": "python3"
  },
  "language_info": {
   "codemirror_mode": {
    "name": "ipython",
    "version": 3
   },
   "file_extension": ".py",
   "mimetype": "text/x-python",
   "name": "python",
   "nbconvert_exporter": "python",
   "pygments_lexer": "ipython3",
   "version": "3.9.12"
  }
 },
 "nbformat": 4,
 "nbformat_minor": 5
}
